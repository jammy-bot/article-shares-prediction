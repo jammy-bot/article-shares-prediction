{
 "cells": [
  {
   "cell_type": "markdown",
   "metadata": {},
   "source": [
    "# Explore and re - Model"
   ]
  },
  {
   "cell_type": "markdown",
   "metadata": {},
   "source": [
    "### Import Required Libraries"
   ]
  },
  {
   "cell_type": "code",
   "execution_count": 105,
   "metadata": {},
   "outputs": [],
   "source": [
    "import pandas as pd\n",
    "import numpy as np\n",
    "np.random.seed(0)\n",
    "\n",
    "import os\n",
    "import glob\n",
    "import pickle\n",
    "\n",
    "import matplotlib.pyplot as plt\n",
    "import seaborn as sns\n",
    "%matplotlib inline\n",
    "\n",
    "import importlib"
   ]
  },
  {
   "cell_type": "code",
   "execution_count": 109,
   "metadata": {},
   "outputs": [],
   "source": [
    "from sklearn.preprocessing import StandardScaler\n",
    "from sklearn.model_selection import train_test_split\n",
    "from sklearn.linear_model import LogisticRegression\n",
    "from sklearn.neighbors import KNeighborsClassifier\n",
    "from sklearn.cluster import KMeans\n",
    "from sklearn.metrics import accuracy_score, confusion_matrix, classification_report\n",
    "from sklearn.tree import DecisionTreeClassifier\n",
    "from sklearn.ensemble import BaggingClassifier, RandomForestClassifier\n",
    "from xgboost import XGBClassifier"
   ]
  },
  {
   "cell_type": "code",
   "execution_count": 177,
   "metadata": {},
   "outputs": [],
   "source": [
    "import matplotlib.gridspec as gridspec\n",
    "import itertools\n",
    "from sklearn.svm import SVC\n",
    "from mlxtend.classifier import EnsembleVoteClassifier\n",
    "from mlxtend.plotting import plot_decision_regions"
   ]
  },
  {
   "cell_type": "markdown",
   "metadata": {},
   "source": [
    "### Load Data"
   ]
  },
  {
   "cell_type": "code",
   "execution_count": 106,
   "metadata": {},
   "outputs": [
    {
     "data": {
      "text/plain": [
       "(39644, 61)"
      ]
     },
     "metadata": {},
     "output_type": "display_data"
    },
    {
     "data": {
      "text/html": [
       "<div>\n",
       "<style scoped>\n",
       "    .dataframe tbody tr th:only-of-type {\n",
       "        vertical-align: middle;\n",
       "    }\n",
       "\n",
       "    .dataframe tbody tr th {\n",
       "        vertical-align: top;\n",
       "    }\n",
       "\n",
       "    .dataframe thead th {\n",
       "        text-align: right;\n",
       "    }\n",
       "</style>\n",
       "<table border=\"1\" class=\"dataframe\">\n",
       "  <thead>\n",
       "    <tr style=\"text-align: right;\">\n",
       "      <th></th>\n",
       "      <th>timedelta</th>\n",
       "      <th>n_title</th>\n",
       "      <th>n_content</th>\n",
       "      <th>n_unique_tokens</th>\n",
       "      <th>n_non_stop_words</th>\n",
       "      <th>n_non_stop_unique_tokens</th>\n",
       "      <th>nhrefs</th>\n",
       "      <th>nself_hrefs</th>\n",
       "      <th>nimgs</th>\n",
       "      <th>nvideos</th>\n",
       "      <th>avg_token_length</th>\n",
       "      <th>nkeywords</th>\n",
       "      <th>channel_lifestyle</th>\n",
       "      <th>channel_ent</th>\n",
       "      <th>channel_bus</th>\n",
       "      <th>channel_socmed</th>\n",
       "      <th>channel_tech</th>\n",
       "      <th>channel_world</th>\n",
       "      <th>kw_min_min</th>\n",
       "      <th>kw_max_min</th>\n",
       "      <th>kw_avg_min</th>\n",
       "      <th>kw_min_max</th>\n",
       "      <th>kw_max_max</th>\n",
       "      <th>kw_avg_max</th>\n",
       "      <th>kw_min_avg</th>\n",
       "      <th>kw_max_avg</th>\n",
       "      <th>kw_avg_avg</th>\n",
       "      <th>self_ref_min_shares</th>\n",
       "      <th>self_ref_max_shares</th>\n",
       "      <th>self_ref_avg_shares</th>\n",
       "      <th>week_mon</th>\n",
       "      <th>week_tues</th>\n",
       "      <th>week_wednes</th>\n",
       "      <th>week_thurs</th>\n",
       "      <th>week_fri</th>\n",
       "      <th>week_satur</th>\n",
       "      <th>week_sun</th>\n",
       "      <th>weekend</th>\n",
       "      <th>LDA_00</th>\n",
       "      <th>LDA_01</th>\n",
       "      <th>LDA_02</th>\n",
       "      <th>LDA_03</th>\n",
       "      <th>LDA_04</th>\n",
       "      <th>global_subj</th>\n",
       "      <th>global_sentiment_pol</th>\n",
       "      <th>global_rate_pos_words</th>\n",
       "      <th>global_rate_neg_words</th>\n",
       "      <th>rate_pos_words</th>\n",
       "      <th>rate_neg_words</th>\n",
       "      <th>avg_pos_pol</th>\n",
       "      <th>min_pos_pol</th>\n",
       "      <th>max_pos_pol</th>\n",
       "      <th>avg_neg_pol</th>\n",
       "      <th>min_neg_pol</th>\n",
       "      <th>max_neg_pol</th>\n",
       "      <th>title_subj</th>\n",
       "      <th>title_sentiment_pol</th>\n",
       "      <th>abs_title_subj</th>\n",
       "      <th>abs_title_sentiment_pol</th>\n",
       "      <th>shares</th>\n",
       "      <th>Shares_plus</th>\n",
       "    </tr>\n",
       "    <tr>\n",
       "      <th>url</th>\n",
       "      <th></th>\n",
       "      <th></th>\n",
       "      <th></th>\n",
       "      <th></th>\n",
       "      <th></th>\n",
       "      <th></th>\n",
       "      <th></th>\n",
       "      <th></th>\n",
       "      <th></th>\n",
       "      <th></th>\n",
       "      <th></th>\n",
       "      <th></th>\n",
       "      <th></th>\n",
       "      <th></th>\n",
       "      <th></th>\n",
       "      <th></th>\n",
       "      <th></th>\n",
       "      <th></th>\n",
       "      <th></th>\n",
       "      <th></th>\n",
       "      <th></th>\n",
       "      <th></th>\n",
       "      <th></th>\n",
       "      <th></th>\n",
       "      <th></th>\n",
       "      <th></th>\n",
       "      <th></th>\n",
       "      <th></th>\n",
       "      <th></th>\n",
       "      <th></th>\n",
       "      <th></th>\n",
       "      <th></th>\n",
       "      <th></th>\n",
       "      <th></th>\n",
       "      <th></th>\n",
       "      <th></th>\n",
       "      <th></th>\n",
       "      <th></th>\n",
       "      <th></th>\n",
       "      <th></th>\n",
       "      <th></th>\n",
       "      <th></th>\n",
       "      <th></th>\n",
       "      <th></th>\n",
       "      <th></th>\n",
       "      <th></th>\n",
       "      <th></th>\n",
       "      <th></th>\n",
       "      <th></th>\n",
       "      <th></th>\n",
       "      <th></th>\n",
       "      <th></th>\n",
       "      <th></th>\n",
       "      <th></th>\n",
       "      <th></th>\n",
       "      <th></th>\n",
       "      <th></th>\n",
       "      <th></th>\n",
       "      <th></th>\n",
       "      <th></th>\n",
       "      <th></th>\n",
       "    </tr>\n",
       "  </thead>\n",
       "  <tbody>\n",
       "    <tr>\n",
       "      <td>http://mashable.com/2013/01/07/amazon-instant-video-browser/</td>\n",
       "      <td>731.0</td>\n",
       "      <td>12.0</td>\n",
       "      <td>219.0</td>\n",
       "      <td>0.663594</td>\n",
       "      <td>1.0</td>\n",
       "      <td>0.815385</td>\n",
       "      <td>4.0</td>\n",
       "      <td>2.0</td>\n",
       "      <td>1.0</td>\n",
       "      <td>0.0</td>\n",
       "      <td>4.680365</td>\n",
       "      <td>5.0</td>\n",
       "      <td>0.0</td>\n",
       "      <td>1.0</td>\n",
       "      <td>0.0</td>\n",
       "      <td>0.0</td>\n",
       "      <td>0.0</td>\n",
       "      <td>0.0</td>\n",
       "      <td>0.0</td>\n",
       "      <td>0.0</td>\n",
       "      <td>0.0</td>\n",
       "      <td>0.0</td>\n",
       "      <td>0.0</td>\n",
       "      <td>0.0</td>\n",
       "      <td>0.0</td>\n",
       "      <td>0.0</td>\n",
       "      <td>0.0</td>\n",
       "      <td>496.0</td>\n",
       "      <td>496.0</td>\n",
       "      <td>496.000000</td>\n",
       "      <td>1.0</td>\n",
       "      <td>0.0</td>\n",
       "      <td>0.0</td>\n",
       "      <td>0.0</td>\n",
       "      <td>0.0</td>\n",
       "      <td>0.0</td>\n",
       "      <td>0.0</td>\n",
       "      <td>0.0</td>\n",
       "      <td>0.500331</td>\n",
       "      <td>0.378279</td>\n",
       "      <td>0.040005</td>\n",
       "      <td>0.041263</td>\n",
       "      <td>0.040123</td>\n",
       "      <td>0.521617</td>\n",
       "      <td>0.092562</td>\n",
       "      <td>0.045662</td>\n",
       "      <td>0.013699</td>\n",
       "      <td>0.769231</td>\n",
       "      <td>0.230769</td>\n",
       "      <td>0.378636</td>\n",
       "      <td>0.100000</td>\n",
       "      <td>0.7</td>\n",
       "      <td>-0.350000</td>\n",
       "      <td>-0.600</td>\n",
       "      <td>-0.200000</td>\n",
       "      <td>0.500000</td>\n",
       "      <td>-0.187500</td>\n",
       "      <td>0.000000</td>\n",
       "      <td>0.187500</td>\n",
       "      <td>593</td>\n",
       "      <td>0</td>\n",
       "    </tr>\n",
       "    <tr>\n",
       "      <td>http://mashable.com/2013/01/07/ap-samsung-sponsored-tweets/</td>\n",
       "      <td>731.0</td>\n",
       "      <td>9.0</td>\n",
       "      <td>255.0</td>\n",
       "      <td>0.604743</td>\n",
       "      <td>1.0</td>\n",
       "      <td>0.791946</td>\n",
       "      <td>3.0</td>\n",
       "      <td>1.0</td>\n",
       "      <td>1.0</td>\n",
       "      <td>0.0</td>\n",
       "      <td>4.913725</td>\n",
       "      <td>4.0</td>\n",
       "      <td>0.0</td>\n",
       "      <td>0.0</td>\n",
       "      <td>1.0</td>\n",
       "      <td>0.0</td>\n",
       "      <td>0.0</td>\n",
       "      <td>0.0</td>\n",
       "      <td>0.0</td>\n",
       "      <td>0.0</td>\n",
       "      <td>0.0</td>\n",
       "      <td>0.0</td>\n",
       "      <td>0.0</td>\n",
       "      <td>0.0</td>\n",
       "      <td>0.0</td>\n",
       "      <td>0.0</td>\n",
       "      <td>0.0</td>\n",
       "      <td>0.0</td>\n",
       "      <td>0.0</td>\n",
       "      <td>0.000000</td>\n",
       "      <td>1.0</td>\n",
       "      <td>0.0</td>\n",
       "      <td>0.0</td>\n",
       "      <td>0.0</td>\n",
       "      <td>0.0</td>\n",
       "      <td>0.0</td>\n",
       "      <td>0.0</td>\n",
       "      <td>0.0</td>\n",
       "      <td>0.799756</td>\n",
       "      <td>0.050047</td>\n",
       "      <td>0.050096</td>\n",
       "      <td>0.050101</td>\n",
       "      <td>0.050001</td>\n",
       "      <td>0.341246</td>\n",
       "      <td>0.148948</td>\n",
       "      <td>0.043137</td>\n",
       "      <td>0.015686</td>\n",
       "      <td>0.733333</td>\n",
       "      <td>0.266667</td>\n",
       "      <td>0.286915</td>\n",
       "      <td>0.033333</td>\n",
       "      <td>0.7</td>\n",
       "      <td>-0.118750</td>\n",
       "      <td>-0.125</td>\n",
       "      <td>-0.100000</td>\n",
       "      <td>0.000000</td>\n",
       "      <td>0.000000</td>\n",
       "      <td>0.500000</td>\n",
       "      <td>0.000000</td>\n",
       "      <td>711</td>\n",
       "      <td>0</td>\n",
       "    </tr>\n",
       "    <tr>\n",
       "      <td>http://mashable.com/2013/01/07/apple-40-billion-app-downloads/</td>\n",
       "      <td>731.0</td>\n",
       "      <td>9.0</td>\n",
       "      <td>211.0</td>\n",
       "      <td>0.575130</td>\n",
       "      <td>1.0</td>\n",
       "      <td>0.663866</td>\n",
       "      <td>3.0</td>\n",
       "      <td>1.0</td>\n",
       "      <td>1.0</td>\n",
       "      <td>0.0</td>\n",
       "      <td>4.393365</td>\n",
       "      <td>6.0</td>\n",
       "      <td>0.0</td>\n",
       "      <td>0.0</td>\n",
       "      <td>1.0</td>\n",
       "      <td>0.0</td>\n",
       "      <td>0.0</td>\n",
       "      <td>0.0</td>\n",
       "      <td>0.0</td>\n",
       "      <td>0.0</td>\n",
       "      <td>0.0</td>\n",
       "      <td>0.0</td>\n",
       "      <td>0.0</td>\n",
       "      <td>0.0</td>\n",
       "      <td>0.0</td>\n",
       "      <td>0.0</td>\n",
       "      <td>0.0</td>\n",
       "      <td>918.0</td>\n",
       "      <td>918.0</td>\n",
       "      <td>918.000000</td>\n",
       "      <td>1.0</td>\n",
       "      <td>0.0</td>\n",
       "      <td>0.0</td>\n",
       "      <td>0.0</td>\n",
       "      <td>0.0</td>\n",
       "      <td>0.0</td>\n",
       "      <td>0.0</td>\n",
       "      <td>0.0</td>\n",
       "      <td>0.217792</td>\n",
       "      <td>0.033334</td>\n",
       "      <td>0.033351</td>\n",
       "      <td>0.033334</td>\n",
       "      <td>0.682188</td>\n",
       "      <td>0.702222</td>\n",
       "      <td>0.323333</td>\n",
       "      <td>0.056872</td>\n",
       "      <td>0.009479</td>\n",
       "      <td>0.857143</td>\n",
       "      <td>0.142857</td>\n",
       "      <td>0.495833</td>\n",
       "      <td>0.100000</td>\n",
       "      <td>1.0</td>\n",
       "      <td>-0.466667</td>\n",
       "      <td>-0.800</td>\n",
       "      <td>-0.133333</td>\n",
       "      <td>0.000000</td>\n",
       "      <td>0.000000</td>\n",
       "      <td>0.500000</td>\n",
       "      <td>0.000000</td>\n",
       "      <td>1500</td>\n",
       "      <td>1</td>\n",
       "    </tr>\n",
       "    <tr>\n",
       "      <td>http://mashable.com/2013/01/07/astronaut-notre-dame-bcs/</td>\n",
       "      <td>731.0</td>\n",
       "      <td>9.0</td>\n",
       "      <td>531.0</td>\n",
       "      <td>0.503788</td>\n",
       "      <td>1.0</td>\n",
       "      <td>0.665635</td>\n",
       "      <td>9.0</td>\n",
       "      <td>0.0</td>\n",
       "      <td>1.0</td>\n",
       "      <td>0.0</td>\n",
       "      <td>4.404896</td>\n",
       "      <td>7.0</td>\n",
       "      <td>0.0</td>\n",
       "      <td>1.0</td>\n",
       "      <td>0.0</td>\n",
       "      <td>0.0</td>\n",
       "      <td>0.0</td>\n",
       "      <td>0.0</td>\n",
       "      <td>0.0</td>\n",
       "      <td>0.0</td>\n",
       "      <td>0.0</td>\n",
       "      <td>0.0</td>\n",
       "      <td>0.0</td>\n",
       "      <td>0.0</td>\n",
       "      <td>0.0</td>\n",
       "      <td>0.0</td>\n",
       "      <td>0.0</td>\n",
       "      <td>0.0</td>\n",
       "      <td>0.0</td>\n",
       "      <td>0.000000</td>\n",
       "      <td>1.0</td>\n",
       "      <td>0.0</td>\n",
       "      <td>0.0</td>\n",
       "      <td>0.0</td>\n",
       "      <td>0.0</td>\n",
       "      <td>0.0</td>\n",
       "      <td>0.0</td>\n",
       "      <td>0.0</td>\n",
       "      <td>0.028573</td>\n",
       "      <td>0.419300</td>\n",
       "      <td>0.494651</td>\n",
       "      <td>0.028905</td>\n",
       "      <td>0.028572</td>\n",
       "      <td>0.429850</td>\n",
       "      <td>0.100705</td>\n",
       "      <td>0.041431</td>\n",
       "      <td>0.020716</td>\n",
       "      <td>0.666667</td>\n",
       "      <td>0.333333</td>\n",
       "      <td>0.385965</td>\n",
       "      <td>0.136364</td>\n",
       "      <td>0.8</td>\n",
       "      <td>-0.369697</td>\n",
       "      <td>-0.600</td>\n",
       "      <td>-0.166667</td>\n",
       "      <td>0.000000</td>\n",
       "      <td>0.000000</td>\n",
       "      <td>0.500000</td>\n",
       "      <td>0.000000</td>\n",
       "      <td>1200</td>\n",
       "      <td>0</td>\n",
       "    </tr>\n",
       "    <tr>\n",
       "      <td>http://mashable.com/2013/01/07/att-u-verse-apps/</td>\n",
       "      <td>731.0</td>\n",
       "      <td>13.0</td>\n",
       "      <td>1072.0</td>\n",
       "      <td>0.415646</td>\n",
       "      <td>1.0</td>\n",
       "      <td>0.540890</td>\n",
       "      <td>19.0</td>\n",
       "      <td>19.0</td>\n",
       "      <td>20.0</td>\n",
       "      <td>0.0</td>\n",
       "      <td>4.682836</td>\n",
       "      <td>7.0</td>\n",
       "      <td>0.0</td>\n",
       "      <td>0.0</td>\n",
       "      <td>0.0</td>\n",
       "      <td>0.0</td>\n",
       "      <td>1.0</td>\n",
       "      <td>0.0</td>\n",
       "      <td>0.0</td>\n",
       "      <td>0.0</td>\n",
       "      <td>0.0</td>\n",
       "      <td>0.0</td>\n",
       "      <td>0.0</td>\n",
       "      <td>0.0</td>\n",
       "      <td>0.0</td>\n",
       "      <td>0.0</td>\n",
       "      <td>0.0</td>\n",
       "      <td>545.0</td>\n",
       "      <td>16000.0</td>\n",
       "      <td>3151.157895</td>\n",
       "      <td>1.0</td>\n",
       "      <td>0.0</td>\n",
       "      <td>0.0</td>\n",
       "      <td>0.0</td>\n",
       "      <td>0.0</td>\n",
       "      <td>0.0</td>\n",
       "      <td>0.0</td>\n",
       "      <td>0.0</td>\n",
       "      <td>0.028633</td>\n",
       "      <td>0.028794</td>\n",
       "      <td>0.028575</td>\n",
       "      <td>0.028572</td>\n",
       "      <td>0.885427</td>\n",
       "      <td>0.513502</td>\n",
       "      <td>0.281003</td>\n",
       "      <td>0.074627</td>\n",
       "      <td>0.012127</td>\n",
       "      <td>0.860215</td>\n",
       "      <td>0.139785</td>\n",
       "      <td>0.411127</td>\n",
       "      <td>0.033333</td>\n",
       "      <td>1.0</td>\n",
       "      <td>-0.220192</td>\n",
       "      <td>-0.500</td>\n",
       "      <td>-0.050000</td>\n",
       "      <td>0.454545</td>\n",
       "      <td>0.136364</td>\n",
       "      <td>0.045455</td>\n",
       "      <td>0.136364</td>\n",
       "      <td>505</td>\n",
       "      <td>0</td>\n",
       "    </tr>\n",
       "  </tbody>\n",
       "</table>\n",
       "</div>"
      ],
      "text/plain": [
       "                                                    timedelta  n_title  \\\n",
       "url                                                                      \n",
       "http://mashable.com/2013/01/07/amazon-instant-v...      731.0     12.0   \n",
       "http://mashable.com/2013/01/07/ap-samsung-spons...      731.0      9.0   \n",
       "http://mashable.com/2013/01/07/apple-40-billion...      731.0      9.0   \n",
       "http://mashable.com/2013/01/07/astronaut-notre-...      731.0      9.0   \n",
       "http://mashable.com/2013/01/07/att-u-verse-apps/        731.0     13.0   \n",
       "\n",
       "                                                    n_content  \\\n",
       "url                                                             \n",
       "http://mashable.com/2013/01/07/amazon-instant-v...      219.0   \n",
       "http://mashable.com/2013/01/07/ap-samsung-spons...      255.0   \n",
       "http://mashable.com/2013/01/07/apple-40-billion...      211.0   \n",
       "http://mashable.com/2013/01/07/astronaut-notre-...      531.0   \n",
       "http://mashable.com/2013/01/07/att-u-verse-apps/       1072.0   \n",
       "\n",
       "                                                    n_unique_tokens  \\\n",
       "url                                                                   \n",
       "http://mashable.com/2013/01/07/amazon-instant-v...         0.663594   \n",
       "http://mashable.com/2013/01/07/ap-samsung-spons...         0.604743   \n",
       "http://mashable.com/2013/01/07/apple-40-billion...         0.575130   \n",
       "http://mashable.com/2013/01/07/astronaut-notre-...         0.503788   \n",
       "http://mashable.com/2013/01/07/att-u-verse-apps/           0.415646   \n",
       "\n",
       "                                                    n_non_stop_words  \\\n",
       "url                                                                    \n",
       "http://mashable.com/2013/01/07/amazon-instant-v...               1.0   \n",
       "http://mashable.com/2013/01/07/ap-samsung-spons...               1.0   \n",
       "http://mashable.com/2013/01/07/apple-40-billion...               1.0   \n",
       "http://mashable.com/2013/01/07/astronaut-notre-...               1.0   \n",
       "http://mashable.com/2013/01/07/att-u-verse-apps/                 1.0   \n",
       "\n",
       "                                                    n_non_stop_unique_tokens  \\\n",
       "url                                                                            \n",
       "http://mashable.com/2013/01/07/amazon-instant-v...                  0.815385   \n",
       "http://mashable.com/2013/01/07/ap-samsung-spons...                  0.791946   \n",
       "http://mashable.com/2013/01/07/apple-40-billion...                  0.663866   \n",
       "http://mashable.com/2013/01/07/astronaut-notre-...                  0.665635   \n",
       "http://mashable.com/2013/01/07/att-u-verse-apps/                    0.540890   \n",
       "\n",
       "                                                    nhrefs  nself_hrefs  \\\n",
       "url                                                                       \n",
       "http://mashable.com/2013/01/07/amazon-instant-v...     4.0          2.0   \n",
       "http://mashable.com/2013/01/07/ap-samsung-spons...     3.0          1.0   \n",
       "http://mashable.com/2013/01/07/apple-40-billion...     3.0          1.0   \n",
       "http://mashable.com/2013/01/07/astronaut-notre-...     9.0          0.0   \n",
       "http://mashable.com/2013/01/07/att-u-verse-apps/      19.0         19.0   \n",
       "\n",
       "                                                    nimgs  nvideos  \\\n",
       "url                                                                  \n",
       "http://mashable.com/2013/01/07/amazon-instant-v...    1.0      0.0   \n",
       "http://mashable.com/2013/01/07/ap-samsung-spons...    1.0      0.0   \n",
       "http://mashable.com/2013/01/07/apple-40-billion...    1.0      0.0   \n",
       "http://mashable.com/2013/01/07/astronaut-notre-...    1.0      0.0   \n",
       "http://mashable.com/2013/01/07/att-u-verse-apps/     20.0      0.0   \n",
       "\n",
       "                                                    avg_token_length  \\\n",
       "url                                                                    \n",
       "http://mashable.com/2013/01/07/amazon-instant-v...          4.680365   \n",
       "http://mashable.com/2013/01/07/ap-samsung-spons...          4.913725   \n",
       "http://mashable.com/2013/01/07/apple-40-billion...          4.393365   \n",
       "http://mashable.com/2013/01/07/astronaut-notre-...          4.404896   \n",
       "http://mashable.com/2013/01/07/att-u-verse-apps/            4.682836   \n",
       "\n",
       "                                                    nkeywords  \\\n",
       "url                                                             \n",
       "http://mashable.com/2013/01/07/amazon-instant-v...        5.0   \n",
       "http://mashable.com/2013/01/07/ap-samsung-spons...        4.0   \n",
       "http://mashable.com/2013/01/07/apple-40-billion...        6.0   \n",
       "http://mashable.com/2013/01/07/astronaut-notre-...        7.0   \n",
       "http://mashable.com/2013/01/07/att-u-verse-apps/          7.0   \n",
       "\n",
       "                                                    channel_lifestyle  \\\n",
       "url                                                                     \n",
       "http://mashable.com/2013/01/07/amazon-instant-v...                0.0   \n",
       "http://mashable.com/2013/01/07/ap-samsung-spons...                0.0   \n",
       "http://mashable.com/2013/01/07/apple-40-billion...                0.0   \n",
       "http://mashable.com/2013/01/07/astronaut-notre-...                0.0   \n",
       "http://mashable.com/2013/01/07/att-u-verse-apps/                  0.0   \n",
       "\n",
       "                                                    channel_ent  channel_bus  \\\n",
       "url                                                                            \n",
       "http://mashable.com/2013/01/07/amazon-instant-v...          1.0          0.0   \n",
       "http://mashable.com/2013/01/07/ap-samsung-spons...          0.0          1.0   \n",
       "http://mashable.com/2013/01/07/apple-40-billion...          0.0          1.0   \n",
       "http://mashable.com/2013/01/07/astronaut-notre-...          1.0          0.0   \n",
       "http://mashable.com/2013/01/07/att-u-verse-apps/            0.0          0.0   \n",
       "\n",
       "                                                    channel_socmed  \\\n",
       "url                                                                  \n",
       "http://mashable.com/2013/01/07/amazon-instant-v...             0.0   \n",
       "http://mashable.com/2013/01/07/ap-samsung-spons...             0.0   \n",
       "http://mashable.com/2013/01/07/apple-40-billion...             0.0   \n",
       "http://mashable.com/2013/01/07/astronaut-notre-...             0.0   \n",
       "http://mashable.com/2013/01/07/att-u-verse-apps/               0.0   \n",
       "\n",
       "                                                    channel_tech  \\\n",
       "url                                                                \n",
       "http://mashable.com/2013/01/07/amazon-instant-v...           0.0   \n",
       "http://mashable.com/2013/01/07/ap-samsung-spons...           0.0   \n",
       "http://mashable.com/2013/01/07/apple-40-billion...           0.0   \n",
       "http://mashable.com/2013/01/07/astronaut-notre-...           0.0   \n",
       "http://mashable.com/2013/01/07/att-u-verse-apps/             1.0   \n",
       "\n",
       "                                                    channel_world  kw_min_min  \\\n",
       "url                                                                             \n",
       "http://mashable.com/2013/01/07/amazon-instant-v...            0.0         0.0   \n",
       "http://mashable.com/2013/01/07/ap-samsung-spons...            0.0         0.0   \n",
       "http://mashable.com/2013/01/07/apple-40-billion...            0.0         0.0   \n",
       "http://mashable.com/2013/01/07/astronaut-notre-...            0.0         0.0   \n",
       "http://mashable.com/2013/01/07/att-u-verse-apps/              0.0         0.0   \n",
       "\n",
       "                                                    kw_max_min  kw_avg_min  \\\n",
       "url                                                                          \n",
       "http://mashable.com/2013/01/07/amazon-instant-v...         0.0         0.0   \n",
       "http://mashable.com/2013/01/07/ap-samsung-spons...         0.0         0.0   \n",
       "http://mashable.com/2013/01/07/apple-40-billion...         0.0         0.0   \n",
       "http://mashable.com/2013/01/07/astronaut-notre-...         0.0         0.0   \n",
       "http://mashable.com/2013/01/07/att-u-verse-apps/           0.0         0.0   \n",
       "\n",
       "                                                    kw_min_max  kw_max_max  \\\n",
       "url                                                                          \n",
       "http://mashable.com/2013/01/07/amazon-instant-v...         0.0         0.0   \n",
       "http://mashable.com/2013/01/07/ap-samsung-spons...         0.0         0.0   \n",
       "http://mashable.com/2013/01/07/apple-40-billion...         0.0         0.0   \n",
       "http://mashable.com/2013/01/07/astronaut-notre-...         0.0         0.0   \n",
       "http://mashable.com/2013/01/07/att-u-verse-apps/           0.0         0.0   \n",
       "\n",
       "                                                    kw_avg_max  kw_min_avg  \\\n",
       "url                                                                          \n",
       "http://mashable.com/2013/01/07/amazon-instant-v...         0.0         0.0   \n",
       "http://mashable.com/2013/01/07/ap-samsung-spons...         0.0         0.0   \n",
       "http://mashable.com/2013/01/07/apple-40-billion...         0.0         0.0   \n",
       "http://mashable.com/2013/01/07/astronaut-notre-...         0.0         0.0   \n",
       "http://mashable.com/2013/01/07/att-u-verse-apps/           0.0         0.0   \n",
       "\n",
       "                                                    kw_max_avg  kw_avg_avg  \\\n",
       "url                                                                          \n",
       "http://mashable.com/2013/01/07/amazon-instant-v...         0.0         0.0   \n",
       "http://mashable.com/2013/01/07/ap-samsung-spons...         0.0         0.0   \n",
       "http://mashable.com/2013/01/07/apple-40-billion...         0.0         0.0   \n",
       "http://mashable.com/2013/01/07/astronaut-notre-...         0.0         0.0   \n",
       "http://mashable.com/2013/01/07/att-u-verse-apps/           0.0         0.0   \n",
       "\n",
       "                                                    self_ref_min_shares  \\\n",
       "url                                                                       \n",
       "http://mashable.com/2013/01/07/amazon-instant-v...                496.0   \n",
       "http://mashable.com/2013/01/07/ap-samsung-spons...                  0.0   \n",
       "http://mashable.com/2013/01/07/apple-40-billion...                918.0   \n",
       "http://mashable.com/2013/01/07/astronaut-notre-...                  0.0   \n",
       "http://mashable.com/2013/01/07/att-u-verse-apps/                  545.0   \n",
       "\n",
       "                                                    self_ref_max_shares  \\\n",
       "url                                                                       \n",
       "http://mashable.com/2013/01/07/amazon-instant-v...                496.0   \n",
       "http://mashable.com/2013/01/07/ap-samsung-spons...                  0.0   \n",
       "http://mashable.com/2013/01/07/apple-40-billion...                918.0   \n",
       "http://mashable.com/2013/01/07/astronaut-notre-...                  0.0   \n",
       "http://mashable.com/2013/01/07/att-u-verse-apps/                16000.0   \n",
       "\n",
       "                                                    self_ref_avg_shares  \\\n",
       "url                                                                       \n",
       "http://mashable.com/2013/01/07/amazon-instant-v...           496.000000   \n",
       "http://mashable.com/2013/01/07/ap-samsung-spons...             0.000000   \n",
       "http://mashable.com/2013/01/07/apple-40-billion...           918.000000   \n",
       "http://mashable.com/2013/01/07/astronaut-notre-...             0.000000   \n",
       "http://mashable.com/2013/01/07/att-u-verse-apps/            3151.157895   \n",
       "\n",
       "                                                    week_mon  week_tues  \\\n",
       "url                                                                       \n",
       "http://mashable.com/2013/01/07/amazon-instant-v...       1.0        0.0   \n",
       "http://mashable.com/2013/01/07/ap-samsung-spons...       1.0        0.0   \n",
       "http://mashable.com/2013/01/07/apple-40-billion...       1.0        0.0   \n",
       "http://mashable.com/2013/01/07/astronaut-notre-...       1.0        0.0   \n",
       "http://mashable.com/2013/01/07/att-u-verse-apps/         1.0        0.0   \n",
       "\n",
       "                                                    week_wednes  week_thurs  \\\n",
       "url                                                                           \n",
       "http://mashable.com/2013/01/07/amazon-instant-v...          0.0         0.0   \n",
       "http://mashable.com/2013/01/07/ap-samsung-spons...          0.0         0.0   \n",
       "http://mashable.com/2013/01/07/apple-40-billion...          0.0         0.0   \n",
       "http://mashable.com/2013/01/07/astronaut-notre-...          0.0         0.0   \n",
       "http://mashable.com/2013/01/07/att-u-verse-apps/            0.0         0.0   \n",
       "\n",
       "                                                    week_fri  week_satur  \\\n",
       "url                                                                        \n",
       "http://mashable.com/2013/01/07/amazon-instant-v...       0.0         0.0   \n",
       "http://mashable.com/2013/01/07/ap-samsung-spons...       0.0         0.0   \n",
       "http://mashable.com/2013/01/07/apple-40-billion...       0.0         0.0   \n",
       "http://mashable.com/2013/01/07/astronaut-notre-...       0.0         0.0   \n",
       "http://mashable.com/2013/01/07/att-u-verse-apps/         0.0         0.0   \n",
       "\n",
       "                                                    week_sun  weekend  \\\n",
       "url                                                                     \n",
       "http://mashable.com/2013/01/07/amazon-instant-v...       0.0      0.0   \n",
       "http://mashable.com/2013/01/07/ap-samsung-spons...       0.0      0.0   \n",
       "http://mashable.com/2013/01/07/apple-40-billion...       0.0      0.0   \n",
       "http://mashable.com/2013/01/07/astronaut-notre-...       0.0      0.0   \n",
       "http://mashable.com/2013/01/07/att-u-verse-apps/         0.0      0.0   \n",
       "\n",
       "                                                      LDA_00    LDA_01  \\\n",
       "url                                                                      \n",
       "http://mashable.com/2013/01/07/amazon-instant-v...  0.500331  0.378279   \n",
       "http://mashable.com/2013/01/07/ap-samsung-spons...  0.799756  0.050047   \n",
       "http://mashable.com/2013/01/07/apple-40-billion...  0.217792  0.033334   \n",
       "http://mashable.com/2013/01/07/astronaut-notre-...  0.028573  0.419300   \n",
       "http://mashable.com/2013/01/07/att-u-verse-apps/    0.028633  0.028794   \n",
       "\n",
       "                                                      LDA_02    LDA_03  \\\n",
       "url                                                                      \n",
       "http://mashable.com/2013/01/07/amazon-instant-v...  0.040005  0.041263   \n",
       "http://mashable.com/2013/01/07/ap-samsung-spons...  0.050096  0.050101   \n",
       "http://mashable.com/2013/01/07/apple-40-billion...  0.033351  0.033334   \n",
       "http://mashable.com/2013/01/07/astronaut-notre-...  0.494651  0.028905   \n",
       "http://mashable.com/2013/01/07/att-u-verse-apps/    0.028575  0.028572   \n",
       "\n",
       "                                                      LDA_04  global_subj  \\\n",
       "url                                                                         \n",
       "http://mashable.com/2013/01/07/amazon-instant-v...  0.040123     0.521617   \n",
       "http://mashable.com/2013/01/07/ap-samsung-spons...  0.050001     0.341246   \n",
       "http://mashable.com/2013/01/07/apple-40-billion...  0.682188     0.702222   \n",
       "http://mashable.com/2013/01/07/astronaut-notre-...  0.028572     0.429850   \n",
       "http://mashable.com/2013/01/07/att-u-verse-apps/    0.885427     0.513502   \n",
       "\n",
       "                                                    global_sentiment_pol  \\\n",
       "url                                                                        \n",
       "http://mashable.com/2013/01/07/amazon-instant-v...              0.092562   \n",
       "http://mashable.com/2013/01/07/ap-samsung-spons...              0.148948   \n",
       "http://mashable.com/2013/01/07/apple-40-billion...              0.323333   \n",
       "http://mashable.com/2013/01/07/astronaut-notre-...              0.100705   \n",
       "http://mashable.com/2013/01/07/att-u-verse-apps/                0.281003   \n",
       "\n",
       "                                                    global_rate_pos_words  \\\n",
       "url                                                                         \n",
       "http://mashable.com/2013/01/07/amazon-instant-v...               0.045662   \n",
       "http://mashable.com/2013/01/07/ap-samsung-spons...               0.043137   \n",
       "http://mashable.com/2013/01/07/apple-40-billion...               0.056872   \n",
       "http://mashable.com/2013/01/07/astronaut-notre-...               0.041431   \n",
       "http://mashable.com/2013/01/07/att-u-verse-apps/                 0.074627   \n",
       "\n",
       "                                                    global_rate_neg_words  \\\n",
       "url                                                                         \n",
       "http://mashable.com/2013/01/07/amazon-instant-v...               0.013699   \n",
       "http://mashable.com/2013/01/07/ap-samsung-spons...               0.015686   \n",
       "http://mashable.com/2013/01/07/apple-40-billion...               0.009479   \n",
       "http://mashable.com/2013/01/07/astronaut-notre-...               0.020716   \n",
       "http://mashable.com/2013/01/07/att-u-verse-apps/                 0.012127   \n",
       "\n",
       "                                                    rate_pos_words  \\\n",
       "url                                                                  \n",
       "http://mashable.com/2013/01/07/amazon-instant-v...        0.769231   \n",
       "http://mashable.com/2013/01/07/ap-samsung-spons...        0.733333   \n",
       "http://mashable.com/2013/01/07/apple-40-billion...        0.857143   \n",
       "http://mashable.com/2013/01/07/astronaut-notre-...        0.666667   \n",
       "http://mashable.com/2013/01/07/att-u-verse-apps/          0.860215   \n",
       "\n",
       "                                                    rate_neg_words  \\\n",
       "url                                                                  \n",
       "http://mashable.com/2013/01/07/amazon-instant-v...        0.230769   \n",
       "http://mashable.com/2013/01/07/ap-samsung-spons...        0.266667   \n",
       "http://mashable.com/2013/01/07/apple-40-billion...        0.142857   \n",
       "http://mashable.com/2013/01/07/astronaut-notre-...        0.333333   \n",
       "http://mashable.com/2013/01/07/att-u-verse-apps/          0.139785   \n",
       "\n",
       "                                                    avg_pos_pol  min_pos_pol  \\\n",
       "url                                                                            \n",
       "http://mashable.com/2013/01/07/amazon-instant-v...     0.378636     0.100000   \n",
       "http://mashable.com/2013/01/07/ap-samsung-spons...     0.286915     0.033333   \n",
       "http://mashable.com/2013/01/07/apple-40-billion...     0.495833     0.100000   \n",
       "http://mashable.com/2013/01/07/astronaut-notre-...     0.385965     0.136364   \n",
       "http://mashable.com/2013/01/07/att-u-verse-apps/       0.411127     0.033333   \n",
       "\n",
       "                                                    max_pos_pol  avg_neg_pol  \\\n",
       "url                                                                            \n",
       "http://mashable.com/2013/01/07/amazon-instant-v...          0.7    -0.350000   \n",
       "http://mashable.com/2013/01/07/ap-samsung-spons...          0.7    -0.118750   \n",
       "http://mashable.com/2013/01/07/apple-40-billion...          1.0    -0.466667   \n",
       "http://mashable.com/2013/01/07/astronaut-notre-...          0.8    -0.369697   \n",
       "http://mashable.com/2013/01/07/att-u-verse-apps/            1.0    -0.220192   \n",
       "\n",
       "                                                    min_neg_pol  max_neg_pol  \\\n",
       "url                                                                            \n",
       "http://mashable.com/2013/01/07/amazon-instant-v...       -0.600    -0.200000   \n",
       "http://mashable.com/2013/01/07/ap-samsung-spons...       -0.125    -0.100000   \n",
       "http://mashable.com/2013/01/07/apple-40-billion...       -0.800    -0.133333   \n",
       "http://mashable.com/2013/01/07/astronaut-notre-...       -0.600    -0.166667   \n",
       "http://mashable.com/2013/01/07/att-u-verse-apps/         -0.500    -0.050000   \n",
       "\n",
       "                                                    title_subj  \\\n",
       "url                                                              \n",
       "http://mashable.com/2013/01/07/amazon-instant-v...    0.500000   \n",
       "http://mashable.com/2013/01/07/ap-samsung-spons...    0.000000   \n",
       "http://mashable.com/2013/01/07/apple-40-billion...    0.000000   \n",
       "http://mashable.com/2013/01/07/astronaut-notre-...    0.000000   \n",
       "http://mashable.com/2013/01/07/att-u-verse-apps/      0.454545   \n",
       "\n",
       "                                                    title_sentiment_pol  \\\n",
       "url                                                                       \n",
       "http://mashable.com/2013/01/07/amazon-instant-v...            -0.187500   \n",
       "http://mashable.com/2013/01/07/ap-samsung-spons...             0.000000   \n",
       "http://mashable.com/2013/01/07/apple-40-billion...             0.000000   \n",
       "http://mashable.com/2013/01/07/astronaut-notre-...             0.000000   \n",
       "http://mashable.com/2013/01/07/att-u-verse-apps/               0.136364   \n",
       "\n",
       "                                                    abs_title_subj  \\\n",
       "url                                                                  \n",
       "http://mashable.com/2013/01/07/amazon-instant-v...        0.000000   \n",
       "http://mashable.com/2013/01/07/ap-samsung-spons...        0.500000   \n",
       "http://mashable.com/2013/01/07/apple-40-billion...        0.500000   \n",
       "http://mashable.com/2013/01/07/astronaut-notre-...        0.500000   \n",
       "http://mashable.com/2013/01/07/att-u-verse-apps/          0.045455   \n",
       "\n",
       "                                                    abs_title_sentiment_pol  \\\n",
       "url                                                                           \n",
       "http://mashable.com/2013/01/07/amazon-instant-v...                 0.187500   \n",
       "http://mashable.com/2013/01/07/ap-samsung-spons...                 0.000000   \n",
       "http://mashable.com/2013/01/07/apple-40-billion...                 0.000000   \n",
       "http://mashable.com/2013/01/07/astronaut-notre-...                 0.000000   \n",
       "http://mashable.com/2013/01/07/att-u-verse-apps/                   0.136364   \n",
       "\n",
       "                                                    shares Shares_plus  \n",
       "url                                                                     \n",
       "http://mashable.com/2013/01/07/amazon-instant-v...     593           0  \n",
       "http://mashable.com/2013/01/07/ap-samsung-spons...     711           0  \n",
       "http://mashable.com/2013/01/07/apple-40-billion...    1500           1  \n",
       "http://mashable.com/2013/01/07/astronaut-notre-...    1200           0  \n",
       "http://mashable.com/2013/01/07/att-u-verse-apps/       505           0  "
      ]
     },
     "execution_count": 106,
     "metadata": {},
     "output_type": "execute_result"
    }
   ],
   "source": [
    "# setting to view all columns\n",
    "pd.set_option('display.max_columns', 999)\n",
    "\n",
    "# opening saved data from pickle file\n",
    "# The protocol version used is detected automatically, so we do not\n",
    "# have to specify it.\n",
    "with open('data/df-os.pickle', 'rb') as f:\n",
    "    df_2 = pickle.load(f)\n",
    "\n",
    "display(df_2.shape)\n",
    "df_2.head()"
   ]
  },
  {
   "cell_type": "markdown",
   "metadata": {},
   "source": [
    "> __To proceed__:\n",
    "* Visualize data\n",
    "* To scale or not to scale\n",
    "* Build a Decision Tree classifier, to set a modeling baseline\n",
    "* Examine the relative importance of dataset features\n",
    "* Test, tune, and score ensemble method models against the dataset\n",
    "* Select best features for final modeling"
   ]
  },
  {
   "cell_type": "markdown",
   "metadata": {},
   "source": [
    "### Plot Class Counts"
   ]
  },
  {
   "cell_type": "code",
   "execution_count": 107,
   "metadata": {},
   "outputs": [
    {
     "data": {
      "image/png": "[encoded data removed]",
      "text/plain": [
       "<Figure size 576x360 with 1 Axes>"
      ]
     },
     "metadata": {},
     "output_type": "display_data"
    }
   ],
   "source": [
    "# styling the figure\n",
    "sns.set(style=\"darkgrid\")\n",
    "plt.figure(figsize=(8, 5))\n",
    "\n",
    "# titling and labeling\n",
    "plt.suptitle(\"Shares Below 1500 (0) and 1500 - or - More (1)\", fontsize=14)\n",
    "plt.ylabel(\"count\")\n",
    "\n",
    "#plotting\n",
    "ax = sns.countplot(x=\"Shares_plus\",alpha=.6, data=df_2);\n",
    "\n",
    "# adding legend\n",
    "plt.legend(labels=('below 1500 shares', '1500 and above'))\n",
    "plt.show()"
   ]
  },
  {
   "cell_type": "code",
   "execution_count": 108,
   "metadata": {},
   "outputs": [
    {
     "data": {
      "image/png": "[encoded data removed]",
      "text/plain": [
       "<Figure size 1440x936 with 1 Axes>"
      ]
     },
     "metadata": {},
     "output_type": "display_data"
    }
   ],
   "source": [
    "# Create a box plot of each column\n",
    "plt.figure(figsize=(20, 13))\n",
    "plt.boxplot([df_2[col] for col in df_2.iloc[:, 0:60].columns])\n",
    "\n",
    "plt.title(\"Box plot of dataset columns\")\n",
    "#plt.xticks(range(len(df_2.columns.values)), df_2.columns.values)\n",
    "plt.show()\n"
   ]
  },
  {
   "cell_type": "markdown",
   "metadata": {},
   "source": [
    "> We see a significant range in scale for data in this set; however, scaling is not required for Decision Tree models, which is what we will be using to set a modeling baseline."
   ]
  },
  {
   "cell_type": "markdown",
   "metadata": {},
   "source": [
    "## Manual Tuning\n",
    "* ## Build a Base Model\n",
    "## =========================================\n",
    "\n",
    "We will start by building a simple decision tree."
   ]
  },
  {
   "cell_type": "markdown",
   "metadata": {},
   "source": [
    "#### Split Predictor Variables and Target"
   ]
  },
  {
   "cell_type": "code",
   "execution_count": 110,
   "metadata": {},
   "outputs": [],
   "source": [
    "# spliting the dataframe outcome and predictor variables\n",
    "X = df_2.drop(['shares', 'Shares_plus'], axis=1) # features\n",
    "y = df_2['Shares_plus'] # target\n",
    "\n",
    "# splitting the dataset into 75/25 training and test sets\n",
    "X_train, X_test, y_train, y_test = train_test_split(X, \n",
    "                                                    y, \n",
    "                                                    test_size = 0.25, \n",
    "                                                    random_state = 0\n",
    "                                                   )"
   ]
  },
  {
   "cell_type": "code",
   "execution_count": 111,
   "metadata": {},
   "outputs": [
    {
     "data": {
      "image/png": "[encoded data removed]",
      "text/plain": [
       "<Figure size 360x216 with 1 Axes>"
      ]
     },
     "metadata": {},
     "output_type": "display_data"
    }
   ],
   "source": [
    "# viewing class countsa\n",
    "plt.figure(figsize=(5, 3))\n",
    "plt.show(plt.hist(y))"
   ]
  },
  {
   "cell_type": "code",
   "execution_count": 171,
   "metadata": {},
   "outputs": [
    {
     "data": {
      "image/png": "[encoded data removed]",
      "text/plain": [
       "<Figure size 432x288 with 1 Axes>"
      ]
     },
     "metadata": {},
     "output_type": "display_data"
    }
   ],
   "source": [
    "from sklearn.datasets import make_moons\n",
    "\n",
    "X, y = make_moons(n_samples=100, noise=0.15, random_state=0)\n",
    "\n",
    "plt.scatter(X[y == 0, 0], X[y == 0, 1],\n",
    "            c='r', marker='o', label='Class 0')\n",
    "plt.scatter(X[y == 1, 0], X[y == 1, 1],\n",
    "            c='b', marker='s', label='Class 1')\n",
    "\n",
    "plt.xlim(X[:, 0].min()-1, X[:, 0].max()+1)\n",
    "plt.ylim(X[:, 1].min()-1, X[:, 1].max()+1)\n",
    "plt.xlabel('$x_1$')\n",
    "plt.ylabel('$x_2$')\n",
    "plt.legend(loc='best')\n",
    "plt.tight_layout()\n",
    "plt.show()"
   ]
  },
  {
   "cell_type": "markdown",
   "metadata": {},
   "source": [
    "## Unfit Model"
   ]
  },
  {
   "cell_type": "markdown",
   "metadata": {},
   "source": [
    "#### ROC - AUC\n",
    "> Let's plot the receiver operating characteristic (ROC) probability curve and the area underneath the curve (AUC) representing the degree of separability for target classes in an unfitted Logistic Regression model."
   ]
  },
  {
   "cell_type": "code",
   "execution_count": 112,
   "metadata": {},
   "outputs": [],
   "source": [
    "from yellowbrick.classifier import roc_auc"
   ]
  },
  {
   "cell_type": "code",
   "execution_count": 113,
   "metadata": {},
   "outputs": [
    {
     "data": {
      "image/png": "[encoded data removed]",
      "text/plain": [
       "<Figure size 432x288 with 1 Axes>"
      ]
     },
     "metadata": {},
     "output_type": "display_data"
    }
   ],
   "source": [
    "visualizer = roc_auc(LogisticRegression(), X, y)"
   ]
  },
  {
   "cell_type": "markdown",
   "metadata": {},
   "source": [
    "> Near perfect predictions would display the curves elbow in the top - left corner of the plot. Our predictive capability is far from perfect, but it does give us an edge in our ability to determine, in advance, characteristics for an article to perform above the 50th - percentile for article shares (1400) and above our target (1500)."
   ]
  },
  {
   "cell_type": "markdown",
   "metadata": {},
   "source": [
    "## Buid a Decision Tree"
   ]
  },
  {
   "cell_type": "code",
   "execution_count": 114,
   "metadata": {},
   "outputs": [
    {
     "data": {
      "text/plain": [
       "DecisionTreeClassifier(class_weight=None, criterion='gini', max_depth=5,\n",
       "                       max_features=None, max_leaf_nodes=None,\n",
       "                       min_impurity_decrease=0.0, min_impurity_split=None,\n",
       "                       min_samples_leaf=1, min_samples_split=2,\n",
       "                       min_weight_fraction_leaf=0.0, presort=False,\n",
       "                       random_state=0, splitter='best')"
      ]
     },
     "execution_count": 114,
     "metadata": {},
     "output_type": "execute_result"
    }
   ],
   "source": [
    "# instantiate and fit a Decision Tree classifier\n",
    "tree_clf = DecisionTreeClassifier(criterion='gini', \n",
    "                                  max_depth=5, \n",
    "                                  random_state = 0)\n",
    "tree_clf.fit(X_train, y_train)"
   ]
  },
  {
   "cell_type": "markdown",
   "metadata": {},
   "source": [
    "#### Feature Importance\n",
    "\n",
    "Determine which features impact most significantly the outcome, for our Decision Tree model."
   ]
  },
  {
   "cell_type": "code",
   "execution_count": 115,
   "metadata": {},
   "outputs": [
    {
     "data": {
      "text/plain": [
       "array([0.06668088, 0.        , 0.        , 0.03397857, 0.        ,\n",
       "       0.        , 0.        , 0.        , 0.        , 0.        ,\n",
       "       0.        , 0.        , 0.00576391, 0.10550961, 0.        ,\n",
       "       0.07508385, 0.09589684, 0.01117742, 0.        , 0.        ,\n",
       "       0.00409296, 0.        , 0.        , 0.        , 0.        ,\n",
       "       0.01493452, 0.3258526 , 0.11303927, 0.        , 0.00380801,\n",
       "       0.        , 0.        , 0.        , 0.        , 0.        ,\n",
       "       0.        , 0.        , 0.09888608, 0.00688671, 0.00954792,\n",
       "       0.01868913, 0.        , 0.        , 0.        , 0.        ,\n",
       "       0.00324808, 0.        , 0.00232904, 0.        , 0.00270122,\n",
       "       0.        , 0.        , 0.        , 0.        , 0.        ,\n",
       "       0.        , 0.        , 0.        , 0.00189338])"
      ]
     },
     "execution_count": 115,
     "metadata": {},
     "output_type": "execute_result"
    }
   ],
   "source": [
    "# checking feature importances of the trained model\n",
    "tree_clf.feature_importances_"
   ]
  },
  {
   "cell_type": "markdown",
   "metadata": {},
   "source": [
    "#### Plot Feature Importances\n",
    "\n",
    "Let's get a more useful view, by displaying feature importances with column names on a horizontal bar plot."
   ]
  },
  {
   "cell_type": "code",
   "execution_count": 116,
   "metadata": {},
   "outputs": [
    {
     "data": {
      "image/png": "[encoded data removed]",
      "text/plain": [
       "<Figure size 576x1512 with 1 Axes>"
      ]
     },
     "metadata": {},
     "output_type": "display_data"
    }
   ],
   "source": [
    "# visualize feature importances\n",
    "def plot_feature_importances(model):\n",
    "    n_features = X_train.shape[1]\n",
    "    plt.figure(figsize=(8, 21))\n",
    "    plt.barh(range(n_features), \n",
    "             model.feature_importances_, \n",
    "             align='center')\n",
    "    plt.yticks(np.arange(n_features), X_train.columns.values)\n",
    "    plt.xlabel('Feature Importance')\n",
    "    plt.ylabel('Feature')\n",
    "\n",
    "plot_feature_importances(tree_clf)"
   ]
  },
  {
   "cell_type": "markdown",
   "metadata": {},
   "source": [
    "> Most of the features do not seem to male a whole lot of difference.\n",
    "* The plot suggests 7 - to - 10 at least moderately important features, among more than 50 in the dataset.\n",
    "* Let's check scores for our full - featured tree model and do a couple of comparisons, before reducing the number of predictors."
   ]
  },
  {
   "cell_type": "markdown",
   "metadata": {},
   "source": [
    "#### Model Performance\n",
    "\n",
    "Along with an scikit-learn classification report, we will view a matrix and heatmap reflecting outcomes for our model, in the following format:\n",
    "\n",
    "<table>\n",
    "  <tr>\n",
    "    <td>True Negative</td>\n",
    "    <td>False Positive</td>\n",
    "  </tr>\n",
    "  <tr>\n",
    "    <td>False Negative</td>\n",
    "    <td>True Positive</td>\n",
    "  </tr>\n",
    "</table>"
   ]
  },
  {
   "cell_type": "code",
   "execution_count": 117,
   "metadata": {},
   "outputs": [
    {
     "name": "stdout",
     "output_type": "stream",
     "text": [
      "\n",
      " [[3237 1836]\n",
      " [1795 3043]] \n",
      "\n",
      "              precision    recall  f1-score   support\n",
      "\n",
      "           0       0.64      0.64      0.64      5073\n",
      "           1       0.62      0.63      0.63      4838\n",
      "\n",
      "    accuracy                           0.63      9911\n",
      "   macro avg       0.63      0.63      0.63      9911\n",
      "weighted avg       0.63      0.63      0.63      9911\n",
      "\n"
     ]
    }
   ],
   "source": [
    "# viewing test set predictions\n",
    "pred = tree_clf.predict(X_test)\n",
    "\n",
    "# viewing confusion matrix and classification report\n",
    "print(\"\\n\", confusion_matrix(y_test, pred), \"\\n\")\n",
    "print(classification_report(y_test, pred))"
   ]
  },
  {
   "cell_type": "markdown",
   "metadata": {},
   "source": [
    "> Scores appear consistent accross the board, for this model, with precision, recall, and f1-scores all between 0.62 and 0.64, inclusive."
   ]
  },
  {
   "cell_type": "code",
   "execution_count": 118,
   "metadata": {},
   "outputs": [],
   "source": [
    "# True Positive (TP): we predict a label of 1 (positive), and the true label is 1.\n",
    "# TP = np.sum(np.logical_and(pred_labels == 1, true_labels == 1))\n",
    " \n",
    "# True Negative (TN): we predict a label of 0 (negative), and the true label is 0.\n",
    "# TN = np.sum(np.logical_and(pred_labels == 0, true_labels == 0))\n",
    " \n",
    "# False Positive (FP): we predict a label of 1 (positive), but the true label is 0.\n",
    "# FP = np.sum(np.logical_and(pred_labels == 1, true_labels == 0))\n",
    " \n",
    "# False Negative (FN): we predict a label of 0 (negative), but the true label is 1.\n",
    "# FN = np.sum(np.logical_and(pred_labels == 0, true_labels == 1))\n",
    " \n",
    "# print 'TP: %i, FP: %i, TN: %i, FN: %i' % (TP,FP,TN,FN)"
   ]
  },
  {
   "cell_type": "markdown",
   "metadata": {},
   "source": [
    "#### Confusion Matrix Heatmap"
   ]
  },
  {
   "cell_type": "code",
   "execution_count": 119,
   "metadata": {},
   "outputs": [
    {
     "data": {
      "image/png": "[encoded data removed]",
      "text/plain": [
       "<Figure size 432x288 with 2 Axes>"
      ]
     },
     "metadata": {},
     "output_type": "display_data"
    }
   ],
   "source": [
    "# plotting confusion matrix heatmap\n",
    "cm = confusion_matrix(y_test, pred)\n",
    "\n",
    "sns.heatmap(cm, cmap=sns.color_palette('Blues'), annot=True, fmt='0.4g')\n",
    "\n",
    "plt.autoscale()\n",
    "\n",
    "plt.xlabel(\"Predicted\")\n",
    "plt.ylabel(\"Actual\")\n",
    "plt.title(\"Confusion Matrix\")\n",
    "\n",
    "plt.show()"
   ]
  },
  {
   "cell_type": "markdown",
   "metadata": {},
   "source": [
    "<table>\n",
    "  <tr>\n",
    "    <td>True Negative: </td>\n",
    "    <td>False Positive: </td>\n",
    "  </tr>\n",
    "  <tr>\n",
    "    <td>False Negative: </td>\n",
    "    <td>True Positive: </td>\n",
    "  </tr>\n",
    "</table>"
   ]
  },
  {
   "cell_type": "code",
   "execution_count": 120,
   "metadata": {},
   "outputs": [
    {
     "name": "stdout",
     "output_type": "stream",
     "text": [
      "\n",
      "Decision Tree Classifier Testing Accuracy: 63.36%\n",
      "\n"
     ]
    }
   ],
   "source": [
    "# displaying the model's test set accuracy\n",
    "print(\"\\nDecision Tree Classifier Testing Accuracy: {:.4}%\\n\".format(\n",
    "    accuracy_score(y_test, pred) * 100))"
   ]
  },
  {
   "cell_type": "markdown",
   "metadata": {},
   "source": [
    "#### 10 - fold mean cross validation for our Decision Tree model\n",
    "\n",
    "We can perfom k - means cross - validation for our model, to confirm our scores."
   ]
  },
  {
   "cell_type": "code",
   "execution_count": 121,
   "metadata": {},
   "outputs": [
    {
     "name": "stdout",
     "output_type": "stream",
     "text": [
      "\n",
      "Mean Cross Validation Score for DecisionTree Random Forest Classifier: 63.92%\n",
      "\n"
     ]
    }
   ],
   "source": [
    "# importing necessary library\n",
    "from sklearn.model_selection import GridSearchCV, cross_val_score\n",
    "from sklearn.ensemble import AdaBoostClassifier\n",
    "\n",
    "import warnings\n",
    "warnings.filterwarnings(\"ignore\")\n",
    "\n",
    "mean_forest_cv_score = np.mean(cross_val_score(tree_clf, \n",
    "                                               X_train, \n",
    "                                               y_train, \n",
    "                                               cv=10))\n",
    "print(f\"\\nMean Cross Validation Score for DecisionTree Random Forest Classifier: {mean_forest_cv_score :.2%}\\n\")"
   ]
  },
  {
   "cell_type": "markdown",
   "metadata": {},
   "source": [
    "# ========================================="
   ]
  },
  {
   "cell_type": "markdown",
   "metadata": {},
   "source": [
    "## XG Boost"
   ]
  },
  {
   "cell_type": "code",
   "execution_count": 122,
   "metadata": {},
   "outputs": [
    {
     "name": "stdout",
     "output_type": "stream",
     "text": [
      "\n",
      " [[3420 1653]\n",
      " [1656 3182]] \n",
      "\n",
      "              precision    recall  f1-score   support\n",
      "\n",
      "           0       0.67      0.67      0.67      5073\n",
      "           1       0.66      0.66      0.66      4838\n",
      "\n",
      "    accuracy                           0.67      9911\n",
      "   macro avg       0.67      0.67      0.67      9911\n",
      "weighted avg       0.67      0.67      0.67      9911\n",
      "\n"
     ]
    }
   ],
   "source": [
    "# fit model to training data\n",
    "xgb_clf = XGBClassifier()\n",
    "xgb_clf.fit(X_train, y_train)\n",
    "\n",
    "# make predictions for test data\n",
    "pred = xgb_clf.predict(X_test)\n",
    "\n",
    "# viewing confusion matrix and classification report\n",
    "print(\"\\n\", confusion_matrix(y_test, pred), \"\\n\")\n",
    "print(classification_report(y_test, pred))"
   ]
  },
  {
   "cell_type": "code",
   "execution_count": 123,
   "metadata": {},
   "outputs": [
    {
     "name": "stdout",
     "output_type": "stream",
     "text": [
      "\n",
      "XG Boost Classifier Accuracy: 66.61%\n",
      "\n"
     ]
    }
   ],
   "source": [
    "# displaying the boosted model's accuracy\n",
    "print(\"\\nXG Boost Classifier Accuracy: {:.4}%\\n\".format(\n",
    "    accuracy_score(y_test, pred) * 100))"
   ]
  },
  {
   "cell_type": "markdown",
   "metadata": {},
   "source": [
    "> XG Boost results in a better than 3\\% increase in model accuracy over our Decision Tree."
   ]
  },
  {
   "cell_type": "markdown",
   "metadata": {},
   "source": [
    "### Scaling Data"
   ]
  },
  {
   "cell_type": "code",
   "execution_count": 124,
   "metadata": {
    "scrolled": true
   },
   "outputs": [
    {
     "data": {
      "text/html": [
       "<div>\n",
       "<style scoped>\n",
       "    .dataframe tbody tr th:only-of-type {\n",
       "        vertical-align: middle;\n",
       "    }\n",
       "\n",
       "    .dataframe tbody tr th {\n",
       "        vertical-align: top;\n",
       "    }\n",
       "\n",
       "    .dataframe thead th {\n",
       "        text-align: right;\n",
       "    }\n",
       "</style>\n",
       "<table border=\"1\" class=\"dataframe\">\n",
       "  <thead>\n",
       "    <tr style=\"text-align: right;\">\n",
       "      <th></th>\n",
       "      <th>timedelta</th>\n",
       "      <th>n_title</th>\n",
       "      <th>n_content</th>\n",
       "      <th>n_unique_tokens</th>\n",
       "      <th>n_non_stop_words</th>\n",
       "      <th>n_non_stop_unique_tokens</th>\n",
       "      <th>nhrefs</th>\n",
       "      <th>nself_hrefs</th>\n",
       "      <th>nimgs</th>\n",
       "      <th>nvideos</th>\n",
       "      <th>avg_token_length</th>\n",
       "      <th>nkeywords</th>\n",
       "      <th>channel_lifestyle</th>\n",
       "      <th>channel_ent</th>\n",
       "      <th>channel_bus</th>\n",
       "      <th>channel_socmed</th>\n",
       "      <th>channel_tech</th>\n",
       "      <th>channel_world</th>\n",
       "      <th>kw_min_min</th>\n",
       "      <th>kw_max_min</th>\n",
       "      <th>kw_avg_min</th>\n",
       "      <th>kw_min_max</th>\n",
       "      <th>kw_max_max</th>\n",
       "      <th>kw_avg_max</th>\n",
       "      <th>kw_min_avg</th>\n",
       "      <th>kw_max_avg</th>\n",
       "      <th>kw_avg_avg</th>\n",
       "      <th>self_ref_min_shares</th>\n",
       "      <th>self_ref_max_shares</th>\n",
       "      <th>self_ref_avg_shares</th>\n",
       "      <th>week_mon</th>\n",
       "      <th>week_tues</th>\n",
       "      <th>week_wednes</th>\n",
       "      <th>week_thurs</th>\n",
       "      <th>week_fri</th>\n",
       "      <th>week_satur</th>\n",
       "      <th>week_sun</th>\n",
       "      <th>weekend</th>\n",
       "      <th>LDA_00</th>\n",
       "      <th>LDA_01</th>\n",
       "      <th>LDA_02</th>\n",
       "      <th>LDA_03</th>\n",
       "      <th>LDA_04</th>\n",
       "      <th>global_subj</th>\n",
       "      <th>global_sentiment_pol</th>\n",
       "      <th>global_rate_pos_words</th>\n",
       "      <th>global_rate_neg_words</th>\n",
       "      <th>rate_pos_words</th>\n",
       "      <th>rate_neg_words</th>\n",
       "      <th>avg_pos_pol</th>\n",
       "      <th>min_pos_pol</th>\n",
       "      <th>max_pos_pol</th>\n",
       "      <th>avg_neg_pol</th>\n",
       "      <th>min_neg_pol</th>\n",
       "      <th>max_neg_pol</th>\n",
       "      <th>title_subj</th>\n",
       "      <th>title_sentiment_pol</th>\n",
       "      <th>abs_title_subj</th>\n",
       "      <th>abs_title_sentiment_pol</th>\n",
       "    </tr>\n",
       "  </thead>\n",
       "  <tbody>\n",
       "    <tr>\n",
       "      <td>0</td>\n",
       "      <td>1.715388</td>\n",
       "      <td>-0.186750</td>\n",
       "      <td>-0.575151</td>\n",
       "      <td>0.603187</td>\n",
       "      <td>0.178389</td>\n",
       "      <td>0.880280</td>\n",
       "      <td>-0.781339</td>\n",
       "      <td>-0.858154</td>\n",
       "      <td>0.049734</td>\n",
       "      <td>-0.305291</td>\n",
       "      <td>0.554091</td>\n",
       "      <td>-1.163086</td>\n",
       "      <td>-0.233557</td>\n",
       "      <td>-0.465693</td>\n",
       "      <td>2.313699</td>\n",
       "      <td>-0.251817</td>\n",
       "      <td>-0.47646</td>\n",
       "      <td>-0.519605</td>\n",
       "      <td>2.739908</td>\n",
       "      <td>-0.128882</td>\n",
       "      <td>0.337809</td>\n",
       "      <td>-0.236075</td>\n",
       "      <td>-3.317152</td>\n",
       "      <td>-1.793616</td>\n",
       "      <td>-0.981182</td>\n",
       "      <td>-0.318903</td>\n",
       "      <td>-0.874608</td>\n",
       "      <td>-0.205305</td>\n",
       "      <td>-0.247336</td>\n",
       "      <td>-0.265394</td>\n",
       "      <td>-0.452429</td>\n",
       "      <td>-0.477204</td>\n",
       "      <td>2.084644</td>\n",
       "      <td>-0.471245</td>\n",
       "      <td>-0.408328</td>\n",
       "      <td>-0.259802</td>\n",
       "      <td>-0.273691</td>\n",
       "      <td>-0.391524</td>\n",
       "      <td>1.648314</td>\n",
       "      <td>0.531939</td>\n",
       "      <td>-0.624773</td>\n",
       "      <td>-0.619673</td>\n",
       "      <td>-0.666399</td>\n",
       "      <td>0.438980</td>\n",
       "      <td>-0.687370</td>\n",
       "      <td>-0.395938</td>\n",
       "      <td>0.144489</td>\n",
       "      <td>-0.201766</td>\n",
       "      <td>0.444395</td>\n",
       "      <td>-0.303709</td>\n",
       "      <td>-0.865421</td>\n",
       "      <td>-0.224461</td>\n",
       "      <td>-0.939256</td>\n",
       "      <td>0.078207</td>\n",
       "      <td>-0.967858</td>\n",
       "      <td>-0.871762</td>\n",
       "      <td>-0.267431</td>\n",
       "      <td>0.838672</td>\n",
       "      <td>-0.689414</td>\n",
       "    </tr>\n",
       "    <tr>\n",
       "      <td>1</td>\n",
       "      <td>0.464302</td>\n",
       "      <td>-0.186750</td>\n",
       "      <td>-0.339593</td>\n",
       "      <td>-0.554978</td>\n",
       "      <td>0.178389</td>\n",
       "      <td>-0.882934</td>\n",
       "      <td>-0.693527</td>\n",
       "      <td>-0.598356</td>\n",
       "      <td>-0.428011</td>\n",
       "      <td>-0.305291</td>\n",
       "      <td>0.086672</td>\n",
       "      <td>-0.116430</td>\n",
       "      <td>-0.233557</td>\n",
       "      <td>-0.465693</td>\n",
       "      <td>2.313699</td>\n",
       "      <td>-0.251817</td>\n",
       "      <td>-0.47646</td>\n",
       "      <td>-0.519605</td>\n",
       "      <td>-0.317886</td>\n",
       "      <td>-0.198919</td>\n",
       "      <td>-0.305068</td>\n",
       "      <td>-0.236075</td>\n",
       "      <td>0.424369</td>\n",
       "      <td>-0.061783</td>\n",
       "      <td>-0.981182</td>\n",
       "      <td>-0.130337</td>\n",
       "      <td>-0.551314</td>\n",
       "      <td>-0.091886</td>\n",
       "      <td>-0.195570</td>\n",
       "      <td>-0.174690</td>\n",
       "      <td>-0.452429</td>\n",
       "      <td>-0.477204</td>\n",
       "      <td>-0.479698</td>\n",
       "      <td>-0.471245</td>\n",
       "      <td>2.449009</td>\n",
       "      <td>-0.259802</td>\n",
       "      <td>-0.273691</td>\n",
       "      <td>-0.391524</td>\n",
       "      <td>1.577084</td>\n",
       "      <td>0.779320</td>\n",
       "      <td>-0.665360</td>\n",
       "      <td>-0.660170</td>\n",
       "      <td>-0.708870</td>\n",
       "      <td>-0.140608</td>\n",
       "      <td>0.260516</td>\n",
       "      <td>-0.198635</td>\n",
       "      <td>-0.101436</td>\n",
       "      <td>0.096413</td>\n",
       "      <td>0.079582</td>\n",
       "      <td>0.585750</td>\n",
       "      <td>0.576912</td>\n",
       "      <td>-1.028225</td>\n",
       "      <td>0.292266</td>\n",
       "      <td>0.765686</td>\n",
       "      <td>0.078124</td>\n",
       "      <td>0.670981</td>\n",
       "      <td>1.615655</td>\n",
       "      <td>-1.806324</td>\n",
       "      <td>1.520163</td>\n",
       "    </tr>\n",
       "    <tr>\n",
       "      <td>2</td>\n",
       "      <td>1.113186</td>\n",
       "      <td>-0.660606</td>\n",
       "      <td>0.741452</td>\n",
       "      <td>-0.173804</td>\n",
       "      <td>0.178389</td>\n",
       "      <td>-0.053135</td>\n",
       "      <td>1.413979</td>\n",
       "      <td>1.999618</td>\n",
       "      <td>-0.428011</td>\n",
       "      <td>2.154192</td>\n",
       "      <td>0.065394</td>\n",
       "      <td>0.930226</td>\n",
       "      <td>-0.233557</td>\n",
       "      <td>-0.465693</td>\n",
       "      <td>-0.432208</td>\n",
       "      <td>-0.251817</td>\n",
       "      <td>-0.47646</td>\n",
       "      <td>1.924537</td>\n",
       "      <td>-0.317886</td>\n",
       "      <td>0.107491</td>\n",
       "      <td>0.362720</td>\n",
       "      <td>-0.236075</td>\n",
       "      <td>-0.287260</td>\n",
       "      <td>-0.627570</td>\n",
       "      <td>-0.981182</td>\n",
       "      <td>0.937979</td>\n",
       "      <td>0.418616</td>\n",
       "      <td>-0.168959</td>\n",
       "      <td>0.159733</td>\n",
       "      <td>-0.079484</td>\n",
       "      <td>-0.452429</td>\n",
       "      <td>-0.477204</td>\n",
       "      <td>-0.479698</td>\n",
       "      <td>-0.471245</td>\n",
       "      <td>-0.408328</td>\n",
       "      <td>3.849081</td>\n",
       "      <td>-0.273691</td>\n",
       "      <td>2.554121</td>\n",
       "      <td>-0.618446</td>\n",
       "      <td>-0.543733</td>\n",
       "      <td>0.899764</td>\n",
       "      <td>0.812227</td>\n",
       "      <td>-0.730854</td>\n",
       "      <td>-0.139674</td>\n",
       "      <td>-0.245625</td>\n",
       "      <td>0.271639</td>\n",
       "      <td>0.920964</td>\n",
       "      <td>-0.294946</td>\n",
       "      <td>0.558398</td>\n",
       "      <td>0.481638</td>\n",
       "      <td>0.067853</td>\n",
       "      <td>0.981185</td>\n",
       "      <td>-0.516734</td>\n",
       "      <td>-0.609272</td>\n",
       "      <td>0.078124</td>\n",
       "      <td>0.490995</td>\n",
       "      <td>-0.079123</td>\n",
       "      <td>-1.497741</td>\n",
       "      <td>-0.468456</td>\n",
       "    </tr>\n",
       "    <tr>\n",
       "      <td>3</td>\n",
       "      <td>1.019821</td>\n",
       "      <td>-2.082173</td>\n",
       "      <td>-0.644557</td>\n",
       "      <td>0.689016</td>\n",
       "      <td>0.178389</td>\n",
       "      <td>0.149157</td>\n",
       "      <td>-0.166650</td>\n",
       "      <td>0.181036</td>\n",
       "      <td>-0.428011</td>\n",
       "      <td>-0.305291</td>\n",
       "      <td>0.335202</td>\n",
       "      <td>-0.116430</td>\n",
       "      <td>-0.233557</td>\n",
       "      <td>2.147338</td>\n",
       "      <td>-0.432208</td>\n",
       "      <td>-0.251817</td>\n",
       "      <td>-0.47646</td>\n",
       "      <td>-0.519605</td>\n",
       "      <td>-0.317886</td>\n",
       "      <td>-0.143473</td>\n",
       "      <td>-0.211175</td>\n",
       "      <td>-0.236075</td>\n",
       "      <td>-0.287260</td>\n",
       "      <td>-0.876025</td>\n",
       "      <td>-0.981182</td>\n",
       "      <td>0.077526</td>\n",
       "      <td>-0.441893</td>\n",
       "      <td>-0.196902</td>\n",
       "      <td>1.202111</td>\n",
       "      <td>0.587582</td>\n",
       "      <td>-0.452429</td>\n",
       "      <td>-0.477204</td>\n",
       "      <td>-0.479698</td>\n",
       "      <td>-0.471245</td>\n",
       "      <td>2.449009</td>\n",
       "      <td>-0.259802</td>\n",
       "      <td>-0.273691</td>\n",
       "      <td>-0.391524</td>\n",
       "      <td>-0.038841</td>\n",
       "      <td>-0.508851</td>\n",
       "      <td>0.172290</td>\n",
       "      <td>0.943623</td>\n",
       "      <td>-0.708844</td>\n",
       "      <td>-1.144855</td>\n",
       "      <td>-1.119986</td>\n",
       "      <td>-1.559153</td>\n",
       "      <td>1.510607</td>\n",
       "      <td>-2.133150</td>\n",
       "      <td>2.807383</td>\n",
       "      <td>-0.136600</td>\n",
       "      <td>1.001128</td>\n",
       "      <td>-1.028225</td>\n",
       "      <td>1.173087</td>\n",
       "      <td>1.281295</td>\n",
       "      <td>0.078124</td>\n",
       "      <td>0.053884</td>\n",
       "      <td>-0.644049</td>\n",
       "      <td>-0.748325</td>\n",
       "      <td>-0.247499</td>\n",
       "    </tr>\n",
       "    <tr>\n",
       "      <td>4</td>\n",
       "      <td>-0.898821</td>\n",
       "      <td>-0.186750</td>\n",
       "      <td>0.127318</td>\n",
       "      <td>0.012893</td>\n",
       "      <td>0.178389</td>\n",
       "      <td>0.092961</td>\n",
       "      <td>-0.605714</td>\n",
       "      <td>-0.078761</td>\n",
       "      <td>-0.428011</td>\n",
       "      <td>-0.059343</td>\n",
       "      <td>0.419841</td>\n",
       "      <td>0.406898</td>\n",
       "      <td>-0.233557</td>\n",
       "      <td>-0.465693</td>\n",
       "      <td>-0.432208</td>\n",
       "      <td>-0.251817</td>\n",
       "      <td>-0.47646</td>\n",
       "      <td>1.924537</td>\n",
       "      <td>-0.389665</td>\n",
       "      <td>-0.129466</td>\n",
       "      <td>-0.406244</td>\n",
       "      <td>-0.109081</td>\n",
       "      <td>0.424369</td>\n",
       "      <td>-0.563024</td>\n",
       "      <td>0.024852</td>\n",
       "      <td>-0.066102</td>\n",
       "      <td>0.035585</td>\n",
       "      <td>1.439278</td>\n",
       "      <td>0.503270</td>\n",
       "      <td>1.049816</td>\n",
       "      <td>-0.452429</td>\n",
       "      <td>-0.477204</td>\n",
       "      <td>2.084644</td>\n",
       "      <td>-0.471245</td>\n",
       "      <td>-0.408328</td>\n",
       "      <td>-0.259802</td>\n",
       "      <td>-0.273691</td>\n",
       "      <td>-0.391524</td>\n",
       "      <td>-0.606247</td>\n",
       "      <td>0.039536</td>\n",
       "      <td>0.742838</td>\n",
       "      <td>-0.673557</td>\n",
       "      <td>0.484191</td>\n",
       "      <td>-0.247524</td>\n",
       "      <td>-0.107271</td>\n",
       "      <td>-0.389447</td>\n",
       "      <td>-0.469653</td>\n",
       "      <td>0.309003</td>\n",
       "      <td>-0.180515</td>\n",
       "      <td>0.540229</td>\n",
       "      <td>0.767809</td>\n",
       "      <td>0.177421</td>\n",
       "      <td>-0.054642</td>\n",
       "      <td>-1.640491</td>\n",
       "      <td>0.078124</td>\n",
       "      <td>-0.871762</td>\n",
       "      <td>-0.267431</td>\n",
       "      <td>0.838672</td>\n",
       "      <td>-0.689414</td>\n",
       "    </tr>\n",
       "  </tbody>\n",
       "</table>\n",
       "</div>"
      ],
      "text/plain": [
       "   timedelta   n_title  n_content  n_unique_tokens  n_non_stop_words  \\\n",
       "0   1.715388 -0.186750  -0.575151         0.603187          0.178389   \n",
       "1   0.464302 -0.186750  -0.339593        -0.554978          0.178389   \n",
       "2   1.113186 -0.660606   0.741452        -0.173804          0.178389   \n",
       "3   1.019821 -2.082173  -0.644557         0.689016          0.178389   \n",
       "4  -0.898821 -0.186750   0.127318         0.012893          0.178389   \n",
       "\n",
       "   n_non_stop_unique_tokens    nhrefs  nself_hrefs     nimgs   nvideos  \\\n",
       "0                  0.880280 -0.781339    -0.858154  0.049734 -0.305291   \n",
       "1                 -0.882934 -0.693527    -0.598356 -0.428011 -0.305291   \n",
       "2                 -0.053135  1.413979     1.999618 -0.428011  2.154192   \n",
       "3                  0.149157 -0.166650     0.181036 -0.428011 -0.305291   \n",
       "4                  0.092961 -0.605714    -0.078761 -0.428011 -0.059343   \n",
       "\n",
       "   avg_token_length  nkeywords  channel_lifestyle  channel_ent  channel_bus  \\\n",
       "0          0.554091  -1.163086          -0.233557    -0.465693     2.313699   \n",
       "1          0.086672  -0.116430          -0.233557    -0.465693     2.313699   \n",
       "2          0.065394   0.930226          -0.233557    -0.465693    -0.432208   \n",
       "3          0.335202  -0.116430          -0.233557     2.147338    -0.432208   \n",
       "4          0.419841   0.406898          -0.233557    -0.465693    -0.432208   \n",
       "\n",
       "   channel_socmed  channel_tech  channel_world  kw_min_min  kw_max_min  \\\n",
       "0       -0.251817      -0.47646      -0.519605    2.739908   -0.128882   \n",
       "1       -0.251817      -0.47646      -0.519605   -0.317886   -0.198919   \n",
       "2       -0.251817      -0.47646       1.924537   -0.317886    0.107491   \n",
       "3       -0.251817      -0.47646      -0.519605   -0.317886   -0.143473   \n",
       "4       -0.251817      -0.47646       1.924537   -0.389665   -0.129466   \n",
       "\n",
       "   kw_avg_min  kw_min_max  kw_max_max  kw_avg_max  kw_min_avg  kw_max_avg  \\\n",
       "0    0.337809   -0.236075   -3.317152   -1.793616   -0.981182   -0.318903   \n",
       "1   -0.305068   -0.236075    0.424369   -0.061783   -0.981182   -0.130337   \n",
       "2    0.362720   -0.236075   -0.287260   -0.627570   -0.981182    0.937979   \n",
       "3   -0.211175   -0.236075   -0.287260   -0.876025   -0.981182    0.077526   \n",
       "4   -0.406244   -0.109081    0.424369   -0.563024    0.024852   -0.066102   \n",
       "\n",
       "   kw_avg_avg  self_ref_min_shares  self_ref_max_shares  self_ref_avg_shares  \\\n",
       "0   -0.874608            -0.205305            -0.247336            -0.265394   \n",
       "1   -0.551314            -0.091886            -0.195570            -0.174690   \n",
       "2    0.418616            -0.168959             0.159733            -0.079484   \n",
       "3   -0.441893            -0.196902             1.202111             0.587582   \n",
       "4    0.035585             1.439278             0.503270             1.049816   \n",
       "\n",
       "   week_mon  week_tues  week_wednes  week_thurs  week_fri  week_satur  \\\n",
       "0 -0.452429  -0.477204     2.084644   -0.471245 -0.408328   -0.259802   \n",
       "1 -0.452429  -0.477204    -0.479698   -0.471245  2.449009   -0.259802   \n",
       "2 -0.452429  -0.477204    -0.479698   -0.471245 -0.408328    3.849081   \n",
       "3 -0.452429  -0.477204    -0.479698   -0.471245  2.449009   -0.259802   \n",
       "4 -0.452429  -0.477204     2.084644   -0.471245 -0.408328   -0.259802   \n",
       "\n",
       "   week_sun   weekend    LDA_00    LDA_01    LDA_02    LDA_03    LDA_04  \\\n",
       "0 -0.273691 -0.391524  1.648314  0.531939 -0.624773 -0.619673 -0.666399   \n",
       "1 -0.273691 -0.391524  1.577084  0.779320 -0.665360 -0.660170 -0.708870   \n",
       "2 -0.273691  2.554121 -0.618446 -0.543733  0.899764  0.812227 -0.730854   \n",
       "3 -0.273691 -0.391524 -0.038841 -0.508851  0.172290  0.943623 -0.708844   \n",
       "4 -0.273691 -0.391524 -0.606247  0.039536  0.742838 -0.673557  0.484191   \n",
       "\n",
       "   global_subj  global_sentiment_pol  global_rate_pos_words  \\\n",
       "0     0.438980             -0.687370              -0.395938   \n",
       "1    -0.140608              0.260516              -0.198635   \n",
       "2    -0.139674             -0.245625               0.271639   \n",
       "3    -1.144855             -1.119986              -1.559153   \n",
       "4    -0.247524             -0.107271              -0.389447   \n",
       "\n",
       "   global_rate_neg_words  rate_pos_words  rate_neg_words  avg_pos_pol  \\\n",
       "0               0.144489       -0.201766        0.444395    -0.303709   \n",
       "1              -0.101436        0.096413        0.079582     0.585750   \n",
       "2               0.920964       -0.294946        0.558398     0.481638   \n",
       "3               1.510607       -2.133150        2.807383    -0.136600   \n",
       "4              -0.469653        0.309003       -0.180515     0.540229   \n",
       "\n",
       "   min_pos_pol  max_pos_pol  avg_neg_pol  min_neg_pol  max_neg_pol  \\\n",
       "0    -0.865421    -0.224461    -0.939256     0.078207    -0.967858   \n",
       "1     0.576912    -1.028225     0.292266     0.765686     0.078124   \n",
       "2     0.067853     0.981185    -0.516734    -0.609272     0.078124   \n",
       "3     1.001128    -1.028225     1.173087     1.281295     0.078124   \n",
       "4     0.767809     0.177421    -0.054642    -1.640491     0.078124   \n",
       "\n",
       "   title_subj  title_sentiment_pol  abs_title_subj  abs_title_sentiment_pol  \n",
       "0   -0.871762            -0.267431        0.838672                -0.689414  \n",
       "1    0.670981             1.615655       -1.806324                 1.520163  \n",
       "2    0.490995            -0.079123       -1.497741                -0.468456  \n",
       "3    0.053884            -0.644049       -0.748325                -0.247499  \n",
       "4   -0.871762            -0.267431        0.838672                -0.689414  "
      ]
     },
     "execution_count": 124,
     "metadata": {},
     "output_type": "execute_result"
    }
   ],
   "source": [
    "# Instantiate StandardScaler\n",
    "scaler = StandardScaler()\n",
    "\n",
    "# Transform the training and test sets\n",
    "scaled_data_train = scaler.fit_transform(X_train)\n",
    "scaled_data_test = scaler.transform(X_test)\n",
    "\n",
    "# Convert into a DataFrame\n",
    "scaled_df_train = pd.DataFrame(scaled_data_train, columns=X_train.columns)\n",
    "scaled_df_train.head()"
   ]
  },
  {
   "cell_type": "code",
   "execution_count": 125,
   "metadata": {},
   "outputs": [
    {
     "name": "stdout",
     "output_type": "stream",
     "text": [
      "\n",
      " [[3417 1656]\n",
      " [1652 3186]] \n",
      "\n",
      "              precision    recall  f1-score   support\n",
      "\n",
      "           0       0.67      0.67      0.67      5073\n",
      "           1       0.66      0.66      0.66      4838\n",
      "\n",
      "    accuracy                           0.67      9911\n",
      "   macro avg       0.67      0.67      0.67      9911\n",
      "weighted avg       0.67      0.67      0.67      9911\n",
      "\n"
     ]
    }
   ],
   "source": [
    "# fit model to training data\n",
    "xgb_clf = XGBClassifier()\n",
    "xgb_clf.fit(scaled_data_train, y_train)\n",
    "\n",
    "# make predictions for test data\n",
    "pred = xgb_clf.predict(scaled_data_test)\n",
    "\n",
    "# viewing confusion matrix and classification report\n",
    "print(\"\\n\", confusion_matrix(y_test, pred), \"\\n\")\n",
    "print(classification_report(y_test, pred))"
   ]
  },
  {
   "cell_type": "code",
   "execution_count": 126,
   "metadata": {},
   "outputs": [
    {
     "name": "stdout",
     "output_type": "stream",
     "text": [
      "\n",
      "XG Boost Classifier Accuracy: 66.62%\n",
      "\n"
     ]
    }
   ],
   "source": [
    "# displaying the boosted model's accuracy\n",
    "print(\"\\nXG Boost Classifier Accuracy: {:.4}%\\n\".format(\n",
    "    accuracy_score(y_test, pred) * 100))"
   ]
  },
  {
   "cell_type": "markdown",
   "metadata": {},
   "source": [
    "## KNN"
   ]
  },
  {
   "cell_type": "code",
   "execution_count": 139,
   "metadata": {},
   "outputs": [
    {
     "data": {
      "text/plain": [
       "array([[ 748352.94858998,   81310.75902599],\n",
       "       [ -78507.90872749,  -49067.68204904],\n",
       "       [  91920.12501718,  -51170.40945662],\n",
       "       [ 105391.25189851,  -78316.95937499],\n",
       "       [ -51077.27280738, -103511.83276312]])"
      ]
     },
     "execution_count": 139,
     "metadata": {},
     "output_type": "execute_result"
    }
   ],
   "source": [
    "from sklearn.decomposition import PCA\n",
    "\n",
    "pca_model = PCA(n_components=2)\n",
    "pca_model.fit(X_train)\n",
    "kX_train = pca_model.transform(X_train)\n",
    "kX_test = pca_model.transform(X_test)\n",
    "\n",
    "# 2-Dimensions\n",
    "kX_train[:5]"
   ]
  },
  {
   "cell_type": "code",
   "execution_count": 140,
   "metadata": {},
   "outputs": [
    {
     "name": "stdout",
     "output_type": "stream",
     "text": [
      "\n",
      " [[2726 2347]\n",
      " [2309 2529]] \n",
      "\n",
      "              precision    recall  f1-score   support\n",
      "\n",
      "           0       0.54      0.54      0.54      5073\n",
      "           1       0.52      0.52      0.52      4838\n",
      "\n",
      "    accuracy                           0.53      9911\n",
      "   macro avg       0.53      0.53      0.53      9911\n",
      "weighted avg       0.53      0.53      0.53      9911\n",
      "\n",
      "\n",
      "KNN Classifier Accuracy: 53.02%\n",
      "\n"
     ]
    }
   ],
   "source": [
    "# fit model to training data\n",
    "k = 5\n",
    "knn_clf = KNeighborsClassifier(n_neighbors=k)\n",
    "knn_clf.fit(kX_train, y_train)\n",
    "\n",
    "# make predictions for test data\n",
    "pred = knn_clf.predict(kX_test)\n",
    "\n",
    "# viewing confusion matrix and classification report\n",
    "print(\"\\n\", confusion_matrix(y_test, pred), \"\\n\")\n",
    "print(classification_report(y_test, pred))\n",
    "\n",
    "# displaying the boosted model's accuracy\n",
    "print(\"\\nKNN Classifier Accuracy: {:.4}%\\n\".format(\n",
    "    accuracy_score(y_test, pred) * 100))\n"
   ]
  },
  {
   "cell_type": "markdown",
   "metadata": {},
   "source": [
    "> KNN accuracy appears to move us a step in the wrong direction."
   ]
  },
  {
   "cell_type": "markdown",
   "metadata": {},
   "source": [
    "### Plot Decision Boundary\n",
    "\n",
    "> Let's see how KNN views separation between our classes."
   ]
  },
  {
   "cell_type": "code",
   "execution_count": 190,
   "metadata": {},
   "outputs": [
    {
     "data": {
      "image/png": "[encoded data removed]",
      "text/plain": [
       "<Figure size 720x576 with 1 Axes>"
      ]
     },
     "metadata": {},
     "output_type": "display_data"
    }
   ],
   "source": [
    "from sklearn.datasets import make_moons\n",
    "X, y = make_moons(n_samples=10, random_state=0)\n",
    "\n",
    "gs = gridspec.GridSpec(2, 2)\n",
    "\n",
    "fig = plt.figure(figsize=(10,8))\n",
    "\n",
    "labels = ['KNN']\n",
    "for clf, lab, grd in zip([knn],\n",
    "                         labels,\n",
    "                         itertools.product([0, 1], repeat=2)):\n",
    "\n",
    "    knn_clf.fit(X, y)\n",
    "    ax = plt.subplot(gs[grd[0], grd[1]])\n",
    "    fig = plot_decision_regions(X=X, y=y, clf=knn_clf, legend=2)\n",
    "    plt.title(lab)\n",
    "\n",
    "plt.show()"
   ]
  },
  {
   "cell_type": "markdown",
   "metadata": {},
   "source": [
    "> With ten samples, KNN appears to effectively categorize all but two in their proper class.\n",
    "* That is an improvement of greater than 25\\% percent over our original KNN model.\n",
    "* How will it perform with 10 - times that amount."
   ]
  },
  {
   "cell_type": "code",
   "execution_count": 191,
   "metadata": {},
   "outputs": [
    {
     "data": {
      "image/png": "[encoded data removed]",
      "text/plain": [
       "<Figure size 720x576 with 1 Axes>"
      ]
     },
     "metadata": {},
     "output_type": "display_data"
    }
   ],
   "source": [
    "from sklearn.datasets import make_moons\n",
    "X, y = make_moons(n_samples=100, random_state=0)\n",
    "\n",
    "gs = gridspec.GridSpec(2, 2)\n",
    "\n",
    "fig = plt.figure(figsize=(10,8))\n",
    "\n",
    "labels = ['KNN']\n",
    "for clf, lab, grd in zip([knn],\n",
    "                         labels,\n",
    "                         itertools.product([0, 1], repeat=2)):\n",
    "\n",
    "    knn_clf.fit(X, y)\n",
    "    ax = plt.subplot(gs[grd[0], grd[1]])\n",
    "    fig = plot_decision_regions(X=X, y=y, clf=knn_clf, legend=2)\n",
    "    plt.title(lab)\n",
    "\n",
    "plt.show()"
   ]
  },
  {
   "cell_type": "markdown",
   "metadata": {},
   "source": [
    "> That is impressive.\n",
    "* All samples are properly categorized, with what appears to be a fairly generous boundary."
   ]
  },
  {
   "cell_type": "markdown",
   "metadata": {},
   "source": [
    "### Bootstrap Aggregation (Bagging)\n",
    "\n",
    "> Next, we will try a bagged trees ensemble model. \n",
    "* This model can help reduce variance that may be present in a simple Decision Tree model.\n",
    "* Considering the closely matched results of our original model's training and test sets, we are not likely to be surprised by the bagging scores."
   ]
  },
  {
   "cell_type": "code",
   "execution_count": 18,
   "metadata": {},
   "outputs": [],
   "source": [
    "# instantiating a Bagging classifier\n",
    "bagged_tree_clf = BaggingClassifier(\n",
    "    DecisionTreeClassifier(\n",
    "        criterion='gini',\n",
    "        max_depth=5,\n",
    "        random_state=0\n",
    "    ),\n",
    "    n_estimators=20,\n",
    "    random_state=0\n",
    ")"
   ]
  },
  {
   "cell_type": "code",
   "execution_count": 19,
   "metadata": {},
   "outputs": [
    {
     "data": {
      "text/plain": [
       "BaggingClassifier(base_estimator=DecisionTreeClassifier(class_weight=None,\n",
       "                                                        criterion='gini',\n",
       "                                                        max_depth=5,\n",
       "                                                        max_features=None,\n",
       "                                                        max_leaf_nodes=None,\n",
       "                                                        min_impurity_decrease=0.0,\n",
       "                                                        min_impurity_split=None,\n",
       "                                                        min_samples_leaf=1,\n",
       "                                                        min_samples_split=2,\n",
       "                                                        min_weight_fraction_leaf=0.0,\n",
       "                                                        presort=False,\n",
       "                                                        random_state=0,\n",
       "                                                        splitter='best'),\n",
       "                  bootstrap=True, bootstrap_features=False, max_features=1.0,\n",
       "                  max_samples=1.0, n_estimators=20, n_jobs=None,\n",
       "                  oob_score=False, random_state=0, verbose=0, warm_start=False)"
      ]
     },
     "execution_count": 19,
     "metadata": {},
     "output_type": "execute_result"
    }
   ],
   "source": [
    "# fit to the training data\n",
    "bagged_tree_clf.fit(X_train, y_train)"
   ]
  },
  {
   "cell_type": "code",
   "execution_count": 20,
   "metadata": {},
   "outputs": [
    {
     "name": "stdout",
     "output_type": "stream",
     "text": [
      "\n",
      "Training set score:  0.66\n",
      "Test set score:      0.64\n"
     ]
    }
   ],
   "source": [
    "# checking the accuracy of our Training set\n",
    "print(\"\\nTraining set score: \", \n",
    "      bagged_tree_clf.score(X_train, \n",
    "                        y_train).round(2))\n",
    "\n",
    "# checking the accuracy of our Test set\n",
    "print(\"Test set score:     \", \n",
    "      bagged_tree_clf.score(X_test, \n",
    "                        y_test).round(2))"
   ]
  },
  {
   "cell_type": "markdown",
   "metadata": {},
   "source": [
    "> True enough, our bagging scores are in line with scores from our original Tree model.\n",
    "* Note: when tested with a max depth of 7, the model scores the training set at 0.69 and the test set at 0.65, indicating that the model quicky begins to overfit as we increase depth."
   ]
  },
  {
   "cell_type": "markdown",
   "metadata": {},
   "source": [
    "### Random Forest\n",
    "\n",
    "> Our next ensemble model is Random Forest. \n",
    "* This model allows for lower correlation among samples, by limiting the number of features on which to split.\n",
    "* We will see how its scores compares with our previous models."
   ]
  },
  {
   "cell_type": "code",
   "execution_count": 21,
   "metadata": {},
   "outputs": [
    {
     "data": {
      "text/plain": [
       "RandomForestClassifier(bootstrap=True, class_weight=None, criterion='gini',\n",
       "                       max_depth=5, max_features='auto', max_leaf_nodes=None,\n",
       "                       min_impurity_decrease=0.0, min_impurity_split=None,\n",
       "                       min_samples_leaf=1, min_samples_split=2,\n",
       "                       min_weight_fraction_leaf=0.0, n_estimators=100,\n",
       "                       n_jobs=None, oob_score=False, random_state=0, verbose=0,\n",
       "                       warm_start=False)"
      ]
     },
     "execution_count": 21,
     "metadata": {},
     "output_type": "execute_result"
    }
   ],
   "source": [
    "# instantiating a Random Forest classifier\n",
    "forest_clf = RandomForestClassifier(n_estimators=100, \n",
    "                                max_depth=5, \n",
    "                                random_state = 0)\n",
    "\n",
    "# fit to training data\n",
    "forest_clf.fit(X_train, y_train)"
   ]
  },
  {
   "cell_type": "code",
   "execution_count": 22,
   "metadata": {},
   "outputs": [
    {
     "name": "stdout",
     "output_type": "stream",
     "text": [
      "\n",
      "Training set score:  0.66\n",
      "Test set score:      0.65\n"
     ]
    }
   ],
   "source": [
    "# checking the Training accuracy of our forest\n",
    "print(\"\\nTraining set score: \", forest_clf.score(X_train, y_train).round(2))\n",
    "\n",
    "# checking the Test accuracy of our forest\n",
    "print(\"Test set score:     \", forest_clf.score(X_test, y_test).round(2))"
   ]
  },
  {
   "cell_type": "markdown",
   "metadata": {},
   "source": [
    "> Our test score nuged upwards, a tiny bit.\n",
    "* So far, results have not strayed far from our our first - guess tree. \n",
    "* We can see if Random Forest indicates a change in feature importances, from our original Decision Tree model."
   ]
  },
  {
   "cell_type": "markdown",
   "metadata": {},
   "source": [
    "#### Forest Feature Importance"
   ]
  },
  {
   "cell_type": "code",
   "execution_count": 23,
   "metadata": {},
   "outputs": [
    {
     "data": {
      "image/png": "[encoded data removed]",
      "text/plain": [
       "<Figure size 576x1512 with 1 Axes>"
      ]
     },
     "metadata": {},
     "output_type": "display_data"
    }
   ],
   "source": [
    "plot_feature_importances(forest_clf)"
   ]
  },
  {
   "cell_type": "markdown",
   "metadata": {},
   "source": [
    "> While scores have remained close among our models, we can observe from the plot above that feature importances have shifted.\n",
    "* The random forest classifier suggests about 10 relatively important features--a couple more than suggested by the Decision Tree model.\n",
    "* Where `kw_avg_avg` reached 0.33 and `kw_avg_max` eeked - out only 0.02, in our Tree model, the Random Forest model improtances for the same two features are approximately 0.11 and 0.13, respectively.\n",
    "\n",
    "Even if accuracy scores were exactly the same, the more balanced RandomForest model would be preferred to the lucky - guess of our original Decision Tree model."
   ]
  },
  {
   "cell_type": "markdown",
   "metadata": {},
   "source": [
    "## Forward Selection"
   ]
  },
  {
   "cell_type": "markdown",
   "metadata": {},
   "source": [
    "> So far, we have been modeling with all features in the dataframe.\n",
    "* Including irrelevant features can introduce 'noise' to our model and make results less interpretable.\n",
    "* We can make use of the `mlxtend` library's `SequentialFeatureSelector` module to perform forward selection and determine the best features to retain for modeling."
   ]
  },
  {
   "cell_type": "code",
   "execution_count": 24,
   "metadata": {},
   "outputs": [],
   "source": [
    "from mlxtend.feature_selection import SequentialFeatureSelector as sfs"
   ]
  },
  {
   "cell_type": "code",
   "execution_count": 25,
   "metadata": {},
   "outputs": [
    {
     "name": "stderr",
     "output_type": "stream",
     "text": [
      "[Parallel(n_jobs=5)]: Using backend LokyBackend with 5 concurrent workers.\n",
      "[Parallel(n_jobs=5)]: Done  31 tasks      | elapsed:   28.6s\n",
      "[Parallel(n_jobs=5)]: Done  59 out of  59 | elapsed:   59.4s finished\n",
      "\n",
      "[2020-03-21 17:09:11] Features: 1/10 -- score: 0.5934488655961978[Parallel(n_jobs=5)]: Using backend LokyBackend with 5 concurrent workers.\n",
      "[Parallel(n_jobs=5)]: Done  31 tasks      | elapsed:   46.0s\n",
      "[Parallel(n_jobs=5)]: Done  58 out of  58 | elapsed:  1.3min finished\n",
      "\n",
      "[2020-03-21 17:10:31] Features: 2/10 -- score: 0.6138637301206918[Parallel(n_jobs=5)]: Using backend LokyBackend with 5 concurrent workers.\n",
      "[Parallel(n_jobs=5)]: Done  31 tasks      | elapsed:   38.7s\n",
      "[Parallel(n_jobs=5)]: Done  57 out of  57 | elapsed:  1.1min finished\n",
      "\n",
      "[2020-03-21 17:11:40] Features: 3/10 -- score: 0.6244913896695834[Parallel(n_jobs=5)]: Using backend LokyBackend with 5 concurrent workers.\n",
      "[Parallel(n_jobs=5)]: Done  31 tasks      | elapsed:   50.2s\n",
      "[Parallel(n_jobs=5)]: Done  56 out of  56 | elapsed:  1.5min finished\n",
      "\n",
      "[2020-03-21 17:13:08] Features: 4/10 -- score: 0.6331688366384136[Parallel(n_jobs=5)]: Using backend LokyBackend with 5 concurrent workers.\n",
      "[Parallel(n_jobs=5)]: Done  31 tasks      | elapsed:   46.2s\n",
      "[Parallel(n_jobs=5)]: Done  55 out of  55 | elapsed:  1.3min finished\n",
      "\n",
      "[2020-03-21 17:14:27] Features: 5/10 -- score: 0.6411731890742772[Parallel(n_jobs=5)]: Using backend LokyBackend with 5 concurrent workers.\n",
      "[Parallel(n_jobs=5)]: Done  31 tasks      | elapsed:   42.5s\n",
      "[Parallel(n_jobs=5)]: Done  54 out of  54 | elapsed:  1.2min finished\n",
      "\n",
      "[2020-03-21 17:15:39] Features: 6/10 -- score: 0.6453103055119775[Parallel(n_jobs=5)]: Using backend LokyBackend with 5 concurrent workers.\n",
      "[Parallel(n_jobs=5)]: Done  31 tasks      | elapsed:   48.3s\n",
      "[Parallel(n_jobs=5)]: Done  53 out of  53 | elapsed:  1.3min finished\n",
      "\n",
      "[2020-03-21 17:16:57] Features: 7/10 -- score: 0.6482363654388646[Parallel(n_jobs=5)]: Using backend LokyBackend with 5 concurrent workers.\n",
      "[Parallel(n_jobs=5)]: Done  31 tasks      | elapsed:   45.7s\n",
      "[Parallel(n_jobs=5)]: Done  52 out of  52 | elapsed:  1.2min finished\n",
      "\n",
      "[2020-03-21 17:18:10] Features: 8/10 -- score: 0.6490436874194153[Parallel(n_jobs=5)]: Using backend LokyBackend with 5 concurrent workers.\n",
      "[Parallel(n_jobs=5)]: Done  31 tasks      | elapsed:  1.0min\n",
      "[Parallel(n_jobs=5)]: Done  51 out of  51 | elapsed:  1.6min finished\n",
      "\n",
      "[2020-03-21 17:19:43] Features: 9/10 -- score: 0.6486066732164397[Parallel(n_jobs=5)]: Using backend LokyBackend with 5 concurrent workers.\n",
      "[Parallel(n_jobs=5)]: Done  31 tasks      | elapsed:   56.3s\n",
      "[Parallel(n_jobs=5)]: Done  50 out of  50 | elapsed:  1.4min finished\n",
      "\n",
      "[2020-03-21 17:21:08] Features: 10/10 -- score: 0.652373527131942"
     ]
    }
   ],
   "source": [
    "# Build step forward feature selection\n",
    "sfs1 = sfs(forest_clf,\n",
    "           n_jobs=5,\n",
    "           k_features=10,\n",
    "           forward=True,\n",
    "           floating=False,\n",
    "           verbose=2,\n",
    "           scoring='accuracy',\n",
    "           cv=5)\n",
    "\n",
    "# Perform SFFS\n",
    "sfs1 = sfs1.fit(X_train, y_train)"
   ]
  },
  {
   "cell_type": "markdown",
   "metadata": {},
   "source": [
    "> So:\n",
    "* The score for selected features only is comparable.\n",
    "* We can use our selected featues to create a new `X` for training and testing.\n",
    "* This will provide us with a much simpler set of relevant variables for modeling."
   ]
  },
  {
   "cell_type": "code",
   "execution_count": 27,
   "metadata": {},
   "outputs": [
    {
     "name": "stdout",
     "output_type": "stream",
     "text": [
      "[0, 3, 13, 15, 16, 17, 22, 26, 29, 37]\n"
     ]
    },
    {
     "data": {
      "text/html": [
       "<div>\n",
       "<style scoped>\n",
       "    .dataframe tbody tr th:only-of-type {\n",
       "        vertical-align: middle;\n",
       "    }\n",
       "\n",
       "    .dataframe tbody tr th {\n",
       "        vertical-align: top;\n",
       "    }\n",
       "\n",
       "    .dataframe thead th {\n",
       "        text-align: right;\n",
       "    }\n",
       "</style>\n",
       "<table border=\"1\" class=\"dataframe\">\n",
       "  <thead>\n",
       "    <tr style=\"text-align: right;\">\n",
       "      <th>url</th>\n",
       "    </tr>\n",
       "  </thead>\n",
       "  <tbody>\n",
       "    <tr>\n",
       "      <td>timedelta</td>\n",
       "    </tr>\n",
       "    <tr>\n",
       "      <td>n_unique_tokens</td>\n",
       "    </tr>\n",
       "    <tr>\n",
       "      <td>channel_ent</td>\n",
       "    </tr>\n",
       "    <tr>\n",
       "      <td>channel_socmed</td>\n",
       "    </tr>\n",
       "    <tr>\n",
       "      <td>channel_tech</td>\n",
       "    </tr>\n",
       "    <tr>\n",
       "      <td>channel_world</td>\n",
       "    </tr>\n",
       "    <tr>\n",
       "      <td>kw_max_max</td>\n",
       "    </tr>\n",
       "    <tr>\n",
       "      <td>kw_avg_avg</td>\n",
       "    </tr>\n",
       "    <tr>\n",
       "      <td>self_ref_avg_shares</td>\n",
       "    </tr>\n",
       "    <tr>\n",
       "      <td>weekend</td>\n",
       "    </tr>\n",
       "  </tbody>\n",
       "</table>\n",
       "</div>"
      ],
      "text/plain": [
       "Empty DataFrame\n",
       "Columns: []\n",
       "Index: [timedelta, n_unique_tokens, channel_ent, channel_socmed, channel_tech, channel_world, kw_max_max, kw_avg_avg, self_ref_avg_shares, weekend]"
      ]
     },
     "execution_count": 27,
     "metadata": {},
     "output_type": "execute_result"
    }
   ],
   "source": [
    "# Viewing column indexes of the selected predictors\n",
    "feat_cols = list(sfs1.k_feature_idx_) # instantiate as a list\n",
    "print(feat_cols)\n",
    "\n",
    "# saving the column indexes as a pickle file\n",
    "with open('data/feat-cols.pickle', 'wb') as f:\n",
    "    # pickling the dataframe using the highest protocol available\n",
    "    pickle.dump(feat_cols, f, pickle.HIGHEST_PROTOCOL)\n",
    "\n",
    "# viewing `feat_cols` names, transposed as a series\n",
    "df_2.iloc[:, feat_cols].head(0).T"
   ]
  },
  {
   "cell_type": "code",
   "execution_count": 28,
   "metadata": {},
   "outputs": [
    {
     "data": {
      "text/html": [
       "<div>\n",
       "<style scoped>\n",
       "    .dataframe tbody tr th:only-of-type {\n",
       "        vertical-align: middle;\n",
       "    }\n",
       "\n",
       "    .dataframe tbody tr th {\n",
       "        vertical-align: top;\n",
       "    }\n",
       "\n",
       "    .dataframe thead th {\n",
       "        text-align: right;\n",
       "    }\n",
       "</style>\n",
       "<table border=\"1\" class=\"dataframe\">\n",
       "  <thead>\n",
       "    <tr style=\"text-align: right;\">\n",
       "      <th></th>\n",
       "      <th>timedelta</th>\n",
       "      <th>n_unique_tokens</th>\n",
       "      <th>channel_ent</th>\n",
       "      <th>channel_socmed</th>\n",
       "      <th>channel_tech</th>\n",
       "      <th>channel_world</th>\n",
       "      <th>kw_max_max</th>\n",
       "      <th>kw_avg_avg</th>\n",
       "      <th>self_ref_avg_shares</th>\n",
       "      <th>weekend</th>\n",
       "    </tr>\n",
       "    <tr>\n",
       "      <th>url</th>\n",
       "      <th></th>\n",
       "      <th></th>\n",
       "      <th></th>\n",
       "      <th></th>\n",
       "      <th></th>\n",
       "      <th></th>\n",
       "      <th></th>\n",
       "      <th></th>\n",
       "      <th></th>\n",
       "      <th></th>\n",
       "    </tr>\n",
       "  </thead>\n",
       "  <tbody>\n",
       "  </tbody>\n",
       "</table>\n",
       "</div>"
      ],
      "text/plain": [
       "Empty DataFrame\n",
       "Columns: [timedelta, n_unique_tokens, channel_ent, channel_socmed, channel_tech, channel_world, kw_max_max, kw_avg_avg, self_ref_avg_shares, weekend]\n",
       "Index: []"
      ]
     },
     "execution_count": 28,
     "metadata": {},
     "output_type": "execute_result"
    }
   ],
   "source": [
    "# creating a new set of train - test features\n",
    "# our target `y` remains the same\n",
    "X_feat = df_2.iloc[:, feat_cols]\n",
    "\n",
    "X_feat.head(0)"
   ]
  },
  {
   "cell_type": "code",
   "execution_count": 34,
   "metadata": {},
   "outputs": [
    {
     "name": "stdout",
     "output_type": "stream",
     "text": [
      "Accuracy: 66.61%\n"
     ]
    }
   ],
   "source": [
    "# fit model to training data\n",
    "model = XGBClassifier()\n",
    "model.fit(X_train, y_train)\n",
    "\n",
    "# make predictions for test data\n",
    "y_pred = model.predict(X_test)\n",
    "predictions = [value for value in y_pred]\n",
    "\n",
    "# evaluate predictions\n",
    "accuracy = accuracy_score(y_test, predictions)\n",
    "print(\"Accuracy: %.2f%%\" % (accuracy * 100.0))"
   ]
  },
  {
   "cell_type": "markdown",
   "metadata": {},
   "source": [
    "## GridSearch"
   ]
  },
  {
   "cell_type": "markdown",
   "metadata": {},
   "source": [
    "> It would be time - consuming to perform exhaustive, manual hyper - perameter tuning, even on a reduced set of features. \n",
    "* Instead, we can create a parameter grid dictionary listing a range of parameter values we wish to tune for optimization of our Random Forest model.\n",
    "* Values including the number of estimators to use, the criterion, maximum depth, minimum samples to split, and minimum samples per leaf."
   ]
  },
  {
   "cell_type": "code",
   "execution_count": 29,
   "metadata": {},
   "outputs": [],
   "source": [
    "# creating a parameter grid dictionary\n",
    "rf_param_grid = {\n",
    "    'n_estimators': [10, 30, 100],\n",
    "    'criterion': ['gini', 'entropy'],\n",
    "    'max_depth': [None, 2, 5, 10],\n",
    "    'min_samples_split': [5, 10],\n",
    "    'min_samples_leaf': [3, 6]\n",
    "}"
   ]
  },
  {
   "cell_type": "markdown",
   "metadata": {},
   "source": [
    "We use Scikit-Learn's GridSearchCV module to determine an optimal parameter combination from among the values in our grid dictionary."
   ]
  },
  {
   "cell_type": "code",
   "execution_count": 30,
   "metadata": {},
   "outputs": [
    {
     "name": "stdout",
     "output_type": "stream",
     "text": [
      "Testing Accuracy: 66.69%\n",
      "\n",
      "Optimal Parameters: {'criterion': 'entropy', 'max_depth': None, 'min_samples_leaf': 6, 'min_samples_split': 5, 'n_estimators': 100}\n"
     ]
    }
   ],
   "source": [
    "# performing a grid search with Random Forest\n",
    "rf_grid_search = GridSearchCV(forest_clf, \n",
    "                              rf_param_grid, \n",
    "                              cv=3)\n",
    "rf_grid_search.fit(X_train, y_train)\n",
    "print(f\"Testing Accuracy: {rf_grid_search.best_score_ :.2%}\")\n",
    "print(\"\")\n",
    "print(f\"Optimal Parameters: {rf_grid_search.best_params_}\")"
   ]
  },
  {
   "cell_type": "markdown",
   "metadata": {},
   "source": [
    "> GridSearch determined that our model could achieve its most accurate score, by changing `max_depth` from 5 to 'None'.\n",
    "    * Optimal criterion was changed from 'gini' to 'entropy', and `n_estimators` were kept at the original setting of 100.\n",
    "    * The grid search increased `min_samples_leaf` from 1 to 6, and `min_samples_split` was found to be more effective at 5, rather than our original value of 1."
   ]
  },
  {
   "cell_type": "markdown",
   "metadata": {},
   "source": [
    "### Other Algorithms\n",
    "\n",
    "In addition to the models we have tested, Boosting models (including __AdaBoost__, __Gradient Boost__, and __XGBoost__) offer additional tuning options."
   ]
  },
  {
   "cell_type": "code",
   "execution_count": 192,
   "metadata": {},
   "outputs": [],
   "source": [
    "# list models from the current notebook\n",
    "notebook_models = [tree_clf, \n",
    "                  bagged_tree_clf,\n",
    "                  forest_clf,\n",
    "                  rf_grid_search]"
   ]
  },
  {
   "cell_type": "code",
   "execution_count": 199,
   "metadata": {},
   "outputs": [],
   "source": [
    "from yellowbrick.features import manifold_embedding"
   ]
  },
  {
   "cell_type": "code",
   "execution_count": 200,
   "metadata": {
    "scrolled": true
   },
   "outputs": [
    {
     "data": {
      "image/png": "[encoded data removed]",
      "text/plain": [
       "<Figure size 432x288 with 1 Axes>"
      ]
     },
     "metadata": {},
     "output_type": "display_data"
    }
   ],
   "source": [
    "visualizer = manifold_embedding(X, y)"
   ]
  },
  {
   "cell_type": "code",
   "execution_count": 193,
   "metadata": {},
   "outputs": [],
   "source": [
    "from yellowbrick.classifier import ClassificationReport"
   ]
  },
  {
   "cell_type": "markdown",
   "metadata": {},
   "source": [
    "# =======P====I======P=====E====L=====I====N====E=="
   ]
  },
  {
   "cell_type": "code",
   "execution_count": null,
   "metadata": {},
   "outputs": [],
   "source": [
    "# importing module\n",
    "from sklearn.pipeline import Pipeline\n",
    "\n",
    "\n",
    "# splitting data\n",
    "X = X_feat\n",
    "y =\n",
    "\n",
    "X_train, X_test, y_train, y_test = train_test_split(\n",
    "    X, y, test_size=0.25, random_state=42)\n",
    "\n",
    "\n",
    "# scaling data\n",
    "# Instantiate StandardScaler\n",
    "scaler = StandardScaler()\n",
    "\n",
    "# Transforming the training and test sets\n",
    "scaled_data_train = scaler.fit_transform(X_train)\n",
    "scaled_data_test = scaler.transform(X_test)\n",
    "\n",
    "# Converting into a DataFrame\n",
    "scaled_df_train = pd.DataFrame(scaled_data_train, columns=X_train.columns)\n",
    "display(scaled_df_train.head())\n",
    "\n",
    "\n",
    "# classifying \n",
    "\n",
    "\n",
    "# instantiating a list of tuples (name and regressor)\n",
    "pipeline = Pipeline(steps=[\n",
    "    ('tree_clf', DecisionTreeClassifier(criterion='gini', \n",
    "                                  max_depth=5, \n",
    "                                  random_state = 0)),\n",
    "    ('knn_clf', KNeighborsClassifier()),\n",
    "    ('clf', LogisticRegression()),\n",
    "    ('clf', LogisticRegression()),\n",
    "    ('clf', LogisticRegression()),\n",
    "    ('clf', LogisticRegression()),\n",
    "    ('clf', LogisticRegression()),\n",
    "    ('clf', LogisticRegression()),\n",
    "    ('clf', LogisticRegression()),\n",
    "    ('clf', LogisticRegression())\n",
    "])\n",
    "\n",
    "# viewing test set predictions\n",
    "for clf in pipeline:\n",
    "    pred = clf.predict(X_test)\n",
    "\n",
    "# viewing confusion matrix and classification report\n",
    "print(\"\\n\", confusion_matrix(y_test, pred), \"\\n\")\n",
    "print(classification_report(y_test, pred))\n",
    "\n",
    "# use the pipeline object as you would\n",
    "# a regular classifier\n",
    "pipeline.fit(X_train, y_train)\n",
    "\n",
    "\n",
    "y_preds=pipeline.predict(X_test)\n",
    "\n",
    "\n",
    "\n",
    "accuracy_score(y_test, y_preds)"
   ]
  },
  {
   "cell_type": "code",
   "execution_count": null,
   "metadata": {},
   "outputs": [],
   "source": [
    "# Initializing Classifiers\n",
    "# clf1 = bagged_tree_clf\n",
    "# clf2 = forest_clf\n",
    "# clf3 = SVC(random_state=0, probability=True)\n",
    "# eclf = EnsembleVoteClassifier(clfs=[clf1, clf2, clf3], weights=[2, 1, 1], voting='soft')\n",
    "\n",
    "# Plotting Decision Regions\n",
    "# gs = gridspec.GridSpec(2, 2)\n",
    "# fig = plt.figure(figsize=(10, 8))\n",
    "\n",
    "# for clf, lab, grd in zip([clf1, clf2, clf3, eclf],\n",
    "#                          ['Bag of Trees', 'Random Forest', 'RBF kernel SVM', 'Ensemble'],\n",
    "#                          itertools.product([0, 1], repeat=2)):\n",
    "#     clf.fit(X, y)\n",
    "#     ax = plt.subplot(gs[grd[0], grd[1]])\n",
    "#     fig = plot_decision_regions(X_feat.values, y.astype(np.integer).values, clf=clf, legend=2)\n",
    "#     plt.title(lab)\n",
    "# plt.show()"
   ]
  },
  {
   "cell_type": "markdown",
   "metadata": {},
   "source": [
    "## Save and Continue\n",
    "\n",
    "We can create a pipeline that will enable us to plug - in various models. By creating a scaled pipeline we can also, easily incorporate and compare additional models such as __K-Nearest Neighbors__(KNN).\n",
    "\n",
    "We will tackle that in the next notebook. First, we will use a set of custom functions to save the models we have created so far."
   ]
  },
  {
   "cell_type": "code",
   "execution_count": null,
   "metadata": {},
   "outputs": [],
   "source": [
    "# importing custom helper functions\n",
    "from helpers.helper import *"
   ]
  },
  {
   "cell_type": "code",
   "execution_count": null,
   "metadata": {},
   "outputs": [],
   "source": [
    "# def save_model(model, directory='./models'):\n",
    "#     \"\"\"\n",
    "#     creates a file name by appending .pickle' to a model's variable name,\n",
    "#     and saves the model as a pickle file in the working directory's\n",
    "#     'model' subdirectory\n",
    "#     \"\"\"\n",
    "#     # verify or create the save - path directory\n",
    "#     if not os.path.exists(directory):\n",
    "#         os.mkdir(directory)\n",
    "\n",
    "#     # build the file name\n",
    "#     filename = [tuple[0] for tuple in filter(\n",
    "#         lambda x: model is x[1],\n",
    "#         globals().items())\n",
    "#              ][0]\n",
    "\n",
    "\n",
    "#     # pickle the model with the created filename\n",
    "#     with open(f'{directory}/{filename}.pickle', 'wb') as f:\n",
    "#         # pickling the dataframe using the highest protocol available\n",
    "#         pickle.dump(model, f, pickle.HIGHEST_PROTOCOL)\n",
    "#     return print(f'Saved {filename} to {directory} as pickle file: {filename}\\n', '-'*50)\n",
    "\n",
    "\n",
    "# def save_models(models):\n",
    "#     \"\"\"\n",
    "#     passes a list of model names and saves\n",
    "#     the models as separate pickle files\n",
    "#     \"\"\"\n",
    "#     for m in models:\n",
    "#         saved_model = save_model(m)\n",
    "#     return saved_model\n"
   ]
  },
  {
   "cell_type": "markdown",
   "metadata": {},
   "source": [
    "### Serialize Models"
   ]
  },
  {
   "cell_type": "code",
   "execution_count": null,
   "metadata": {},
   "outputs": [],
   "source": [
    "m1_clf = \"I'm a model, babe.\"\n",
    "m2_clf = \"I'm a model, too, babe.\"\n",
    "m3_clf = \"I'm a model, three, babe.\"\n",
    "\n",
    "test_models = [m1_clf, m2_clf, m3_clf ]\n",
    "\n",
    "def model_name(model):\n",
    "    \"\"\"\n",
    "    returns a model variable as a string\n",
    "    \"\"\"\n",
    "    return [tuple[0] for tuple in filter(\n",
    "        lambda x: model is x[1],\n",
    "        globals().items())\n",
    "             ][0]\n",
    "\n",
    "# showing a model\n",
    "print( m1_clf )\n",
    "\n",
    "# showing a variable name as a string\n",
    "print( \"-\"*72, \"\\n\", model_name(m1_clf), \"\\n\", \"-\"*72 )\n",
    "\n",
    "# showing the list\n",
    "print( test_models )\n",
    "\n",
    "# showing the variable name as a string\n",
    "print( \"-\"*72, \"\\n\", model_name(test_models) )"
   ]
  },
  {
   "cell_type": "code",
   "execution_count": null,
   "metadata": {},
   "outputs": [],
   "source": [
    "def save_model(model, directory='./mods'):\n",
    "    \"\"\"\n",
    "    creates a file name by appending .pickle' to a model's variable name,\n",
    "    and saves the model as a pickle file in the working directory's\n",
    "    'model' subdirectory\n",
    "    \"\"\"\n",
    "    # build the file name\n",
    "    f_name = [tuple[0] for tuple in filter(\n",
    "        lambda x: model is x[1],\n",
    "        globals().items())\n",
    "             ][0]\n",
    "\n",
    "    # replace undersocres with dashes, before pickling\n",
    "    f_name = f_name.replace('_', '-')\n",
    "    \n",
    "    # verify or create the save - path directory\n",
    "    if not os.path.exists(directory):\n",
    "        os.mkdir(directory)\n",
    "\n",
    "    # pickle the model with the created filename\n",
    "    with open(f'{directory}\\/{f_name}.pickle', 'wb') as f:\n",
    "        # pickling the dataframe using the highest protocol available\n",
    "        pickle.dump(model, f, pickle.HIGHEST_PROTOCOL)\n",
    "    return print(f'Saved to {directory} as pickle file: {f_name}\\n', '-'*50)\n",
    "\n",
    "# saving a single model to the `mods` folder\n",
    "save_model(m1_clf)"
   ]
  },
  {
   "cell_type": "code",
   "execution_count": null,
   "metadata": {},
   "outputs": [],
   "source": [
    "def save_models(models):\n",
    "    \"\"\"\n",
    "    passes a list of model names and saves\n",
    "    the models as separate pickle files\n",
    "    \"\"\"\n",
    "    for m in models:\n",
    "        saved_model = save_model(m)\n",
    "    return saved_model\n",
    "\n",
    "# using the `test_models` list to save all \n",
    "# models to the `mods` folder\n",
    "save_models(test_models)"
   ]
  },
  {
   "cell_type": "code",
   "execution_count": null,
   "metadata": {},
   "outputs": [],
   "source": [
    "# getting names of files in `mods' folder\n",
    "# that have the .pickle extension\n",
    "for name in glob.glob('mods/*.pickle'):\n",
    "    print(os.path.basename(name))"
   ]
  },
  {
   "cell_type": "code",
   "execution_count": null,
   "metadata": {},
   "outputs": [],
   "source": [
    "import os\n",
    "import glob\n",
    "import pickle\n",
    "\n",
    "def show_files(relative_path='mods/', extension='*.pickle'):\n",
    "    \"\"\" printing names of files in `relative_path' folder\n",
    "    of a particular extension; arguments entered as strings\n",
    "    \"\"\"\n",
    "    for name in glob.glob(relative_path):\n",
    "        print(os.path.basename(relative_path , extension))\n",
    "    return None\n",
    "\n",
    "show_pickles('mods/*.pickle')"
   ]
  },
  {
   "cell_type": "markdown",
   "metadata": {},
   "source": [
    "### Un - serialize Model(s) from Pickle(s)"
   ]
  },
  {
   "cell_type": "code",
   "execution_count": null,
   "metadata": {},
   "outputs": [],
   "source": [
    "# opening saved data from pickle file(s) in `mods` folder\n",
    "# The protocol version used is detected automatically, so we do not\n",
    "# have to specify it.\n",
    "\n",
    "f_name=None\n",
    "\n",
    "def un_pickle_from_mods(files_list):\n",
    "    path = 'mods/*.pickle'\n",
    "    for tpl in glob.glob(path):\n",
    "        if name[1] in files_list:\n",
    "            print('name[1] is in the file list\\n')\n",
    "            f_name = os.path.splitext(\n",
    "                os.path.basename(\n",
    "                    name[1]\n",
    "                )\n",
    "            )[0\n",
    "              ].replace('-', '_')  # replace dashes with undersocres\n",
    "            print(\"f_name assigned \\n\")\n",
    "            with open(name, 'rb') as f:\n",
    "                f_name = pickle.load(f)\n",
    "            print(f\"{f_name} opened\\n\")\n",
    "    return f_name\n"
   ]
  },
  {
   "cell_type": "code",
   "execution_count": null,
   "metadata": {},
   "outputs": [],
   "source": [
    "# opening saved data from pickle file(s) in `mods` folder\n",
    "# The protocol version used is detected automatically, so we do not\n",
    "# have to specify it.\n",
    "\n",
    "f_name=None\n",
    "\n",
    "def un_pickle_from_mods_2(files_path):\n",
    "    for item in files_path:\n",
    "        #path = './mods/*.pickle'\n",
    "        for tpl in glob.glob('./mods/*.pickle'):\n",
    "            if item in tpl:\n",
    "                print(os.path.normpath(tpl))\n",
    "                # printing filename with extension\n",
    "                print(os.path.basename(tpl))\n",
    "                # instantiating variable for filename without extension\n",
    "                f_name = os.path.splitext(os.path.basename(tpl))[0]\n",
    "                print(f'{f_name} is in the file list\\n')\n",
    "                # instantiate variable name, replacing dashes with undersocres\n",
    "                f_name = f_name.replace('-', '_')\n",
    "                print(f_name, \"is in memory\")\n",
    "                print(\"-\"*72, \"\\n\")\n",
    "                with open(os.path.relpath(tpl), 'rb') as f:\n",
    "                    f_name = pickle.load(f)\n",
    "                print(f\"{f_name} opened\\n\")\n",
    "    return f_name"
   ]
  },
  {
   "cell_type": "code",
   "execution_count": null,
   "metadata": {},
   "outputs": [],
   "source": []
  },
  {
   "cell_type": "code",
   "execution_count": null,
   "metadata": {},
   "outputs": [],
   "source": [
    "print(glob.glob('mods/*.pickle'))"
   ]
  },
  {
   "cell_type": "code",
   "execution_count": null,
   "metadata": {},
   "outputs": [],
   "source": [
    "# ADD TO FUNCTION\n",
    "for tpl in glob.glob('mods/*.pickle'):\n",
    "    r_path = os.path.relpath(tpl)\n",
    "    print(r_path)\n",
    "    \n",
    "    # instantiating variable for filename  with extension\n",
    "    b_name = os.path.basename(tpl)\n",
    "    print(b_name)\n",
    "    \n",
    "    # instantiating variable for filename without extension\n",
    "    f_name = os.path.splitext(b_name)[0]\n",
    "    print(f'{f_name} is in the file list\\n')\n",
    "    \n",
    "    # instantiate variable name, replacing dashes with undersocres\n",
    "    f_name = f_name.replace('-', '_')\n",
    "    print(f_name, \"is in memory\")\n",
    "    print(\"-\"*72, \"\\n\")\n",
    "    \n",
    "    with open(os.path.relpath(tpl), 'rb') as f:\n",
    "        f_name = pickle.load(f)\n",
    "        print(f\"{f_name} opened\\n\")"
   ]
  },
  {
   "cell_type": "code",
   "execution_count": null,
   "metadata": {},
   "outputs": [],
   "source": [
    "un_pickle_from_mods(['m3-clf.pickle'])"
   ]
  },
  {
   "cell_type": "code",
   "execution_count": null,
   "metadata": {},
   "outputs": [],
   "source": [
    "test_models"
   ]
  },
  {
   "cell_type": "code",
   "execution_count": null,
   "metadata": {},
   "outputs": [],
   "source": [
    "*************\n",
    "os.path.splitext(os.path.basename(tpl[1]))[0]\n",
    "f_name = os.path.split(name)[1].replace('-', '_')\n",
    "\n",
    "# File path example.\n",
    "path = \"/some/file.with spaces.dot.docx\"\n",
    "\n",
    "# Get the filename only from the initial file path.\n",
    "filename = os.path.basename(path)\n",
    "\n",
    "# Use splitext() to get filename and extension separately.\n",
    "(file, ext) = os.path.splitext(filename)"
   ]
  },
  {
   "cell_type": "code",
   "execution_count": null,
   "metadata": {},
   "outputs": [],
   "source": [
    "# pass model list to the custom `save_models` function\n",
    "save_models(notebook_models)"
   ]
  },
  {
   "cell_type": "markdown",
   "metadata": {},
   "source": [
    "## Notebook Summary\n",
    "> -\n",
    "* -\n",
    "* -\n",
    "* -\n",
    "    * -\n",
    "* -\n"
   ]
  },
  {
   "cell_type": "markdown",
   "metadata": {},
   "source": [
    "### Save Data"
   ]
  },
  {
   "cell_type": "code",
   "execution_count": null,
   "metadata": {},
   "outputs": [],
   "source": [
    "# 72 Char. screen - width reference\n",
    "########################################################################"
   ]
  },
  {
   "cell_type": "code",
   "execution_count": null,
   "metadata": {},
   "outputs": [],
   "source": [
    "with open('data/#.pickle', 'wb') as f:\n",
    "    # pickling the dataframe using the highest protocol available\n",
    "    pickle.dump(#, f, pickle.HIGHEST_PROTOCOL)"
   ]
  },
  {
   "cell_type": "code",
   "execution_count": null,
   "metadata": {},
   "outputs": [],
   "source": [
    "def pickle_model(model):\n",
    "    \n",
    "    with open('data/#.pickle', 'wb') as f:\n",
    "        # pickling the dataframe using the highest protocol available\n",
    "        pickle.dump(#, f, pickle.HIGHEST_PROTOCOL)"
   ]
  }
 ],
 "metadata": {
  "kernelspec": {
   "display_name": "Python [conda env:learn-env] *",
   "language": "python",
   "name": "conda-env-learn-env-py"
  },
  "language_info": {
   "codemirror_mode": {
    "name": "ipython",
    "version": 3
   },
   "file_extension": ".py",
   "mimetype": "text/x-python",
   "name": "python",
   "nbconvert_exporter": "python",
   "pygments_lexer": "ipython3",
   "version": "3.6.9"
  },
  "toc": {
   "base_numbering": 1,
   "nav_menu": {},
   "number_sections": false,
   "sideBar": true,
   "skip_h1_title": false,
   "title_cell": "Table of Contents",
   "title_sidebar": "Contents",
   "toc_cell": false,
   "toc_position": {},
   "toc_section_display": true,
   "toc_window_display": false
  }
 },
 "nbformat": 4,
 "nbformat_minor": 2
}
